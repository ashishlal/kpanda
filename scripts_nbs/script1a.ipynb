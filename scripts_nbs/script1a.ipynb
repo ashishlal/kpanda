{
 "cells": [
  {
   "cell_type": "code",
   "execution_count": 1,
   "metadata": {},
   "outputs": [],
   "source": [
    "# https://www.kaggle.com/haqishen/train-efficientnet-b0-w-36-tiles-256-lb0-87"
   ]
  },
  {
   "cell_type": "code",
   "execution_count": 2,
   "metadata": {},
   "outputs": [],
   "source": [
    "import os\n",
    "import sys"
   ]
  },
  {
   "cell_type": "code",
   "execution_count": 3,
   "metadata": {},
   "outputs": [],
   "source": [
    "import time\n",
    "import skimage.io\n",
    "import numpy as np\n",
    "import pandas as pd\n",
    "import cv2\n",
    "import PIL.Image\n",
    "import torch\n",
    "import torch.nn as nn\n",
    "import torch.nn.functional as F\n",
    "import torch.optim as optim\n",
    "from torch.optim import lr_scheduler\n",
    "from torch.utils.data import DataLoader, Dataset\n",
    "from torch.utils.data.sampler import SubsetRandomSampler, RandomSampler, SequentialSampler\n",
    "from warmup_scheduler import GradualWarmupScheduler\n",
    "from efficientnet_pytorch import model as enet\n",
    "import albumentations\n",
    "from sklearn.model_selection import StratifiedKFold\n",
    "import matplotlib.pyplot as plt\n",
    "from sklearn.metrics import cohen_kappa_score\n",
    "from tqdm import tqdm_notebook as tqdm"
   ]
  },
  {
   "cell_type": "code",
   "execution_count": 4,
   "metadata": {},
   "outputs": [],
   "source": [
    "DEBUG=False\n",
    "data_dir = '../data'\n",
    "df_train = pd.read_csv(os.path.join(data_dir, 'train.csv'))\n",
    "image_folder = os.path.join(data_dir, 'masks')"
   ]
  },
  {
   "cell_type": "code",
   "execution_count": 5,
   "metadata": {},
   "outputs": [
    {
     "data": {
      "text/html": [
       "<div>\n",
       "<style scoped>\n",
       "    .dataframe tbody tr th:only-of-type {\n",
       "        vertical-align: middle;\n",
       "    }\n",
       "\n",
       "    .dataframe tbody tr th {\n",
       "        vertical-align: top;\n",
       "    }\n",
       "\n",
       "    .dataframe thead th {\n",
       "        text-align: right;\n",
       "    }\n",
       "</style>\n",
       "<table border=\"1\" class=\"dataframe\">\n",
       "  <thead>\n",
       "    <tr style=\"text-align: right;\">\n",
       "      <th></th>\n",
       "      <th>image_id</th>\n",
       "      <th>data_provider</th>\n",
       "      <th>isup_grade</th>\n",
       "      <th>gleason_score</th>\n",
       "    </tr>\n",
       "  </thead>\n",
       "  <tbody>\n",
       "    <tr>\n",
       "      <th>0</th>\n",
       "      <td>0005f7aaab2800f6170c399693a96917</td>\n",
       "      <td>karolinska</td>\n",
       "      <td>0</td>\n",
       "      <td>0+0</td>\n",
       "    </tr>\n",
       "    <tr>\n",
       "      <th>1</th>\n",
       "      <td>000920ad0b612851f8e01bcc880d9b3d</td>\n",
       "      <td>karolinska</td>\n",
       "      <td>0</td>\n",
       "      <td>0+0</td>\n",
       "    </tr>\n",
       "    <tr>\n",
       "      <th>2</th>\n",
       "      <td>0018ae58b01bdadc8e347995b69f99aa</td>\n",
       "      <td>radboud</td>\n",
       "      <td>4</td>\n",
       "      <td>4+4</td>\n",
       "    </tr>\n",
       "    <tr>\n",
       "      <th>3</th>\n",
       "      <td>001c62abd11fa4b57bf7a6c603a11bb9</td>\n",
       "      <td>karolinska</td>\n",
       "      <td>4</td>\n",
       "      <td>4+4</td>\n",
       "    </tr>\n",
       "    <tr>\n",
       "      <th>4</th>\n",
       "      <td>001d865e65ef5d2579c190a0e0350d8f</td>\n",
       "      <td>karolinska</td>\n",
       "      <td>0</td>\n",
       "      <td>0+0</td>\n",
       "    </tr>\n",
       "  </tbody>\n",
       "</table>\n",
       "</div>"
      ],
      "text/plain": [
       "                           image_id data_provider  isup_grade gleason_score\n",
       "0  0005f7aaab2800f6170c399693a96917    karolinska           0           0+0\n",
       "1  000920ad0b612851f8e01bcc880d9b3d    karolinska           0           0+0\n",
       "2  0018ae58b01bdadc8e347995b69f99aa       radboud           4           4+4\n",
       "3  001c62abd11fa4b57bf7a6c603a11bb9    karolinska           4           4+4\n",
       "4  001d865e65ef5d2579c190a0e0350d8f    karolinska           0           0+0"
      ]
     },
     "execution_count": 5,
     "metadata": {},
     "output_type": "execute_result"
    }
   ],
   "source": [
    "df_train.head()"
   ]
  },
  {
   "cell_type": "code",
   "execution_count": 6,
   "metadata": {},
   "outputs": [
    {
     "data": {
      "text/plain": [
       "(10616, 4)"
      ]
     },
     "execution_count": 6,
     "metadata": {},
     "output_type": "execute_result"
    }
   ],
   "source": [
    "df_train.shape"
   ]
  },
  {
   "cell_type": "code",
   "execution_count": 7,
   "metadata": {},
   "outputs": [],
   "source": [
    "from tqdm import tqdm_notebook as tqdm"
   ]
  },
  {
   "cell_type": "code",
   "execution_count": 8,
   "metadata": {},
   "outputs": [
    {
     "data": {
      "application/vnd.jupyter.widget-view+json": {
       "model_id": "b24be8c61e25462eb7d6321a96023860",
       "version_major": 2,
       "version_minor": 0
      },
      "text/plain": [
       "HBox(children=(IntProgress(value=0, max=378576), HTML(value='')))"
      ]
     },
     "metadata": {},
     "output_type": "display_data"
    },
    {
     "name": "stdout",
     "output_type": "stream",
     "text": [
      "\n"
     ]
    }
   ],
   "source": [
    "image_mask_present = []\n",
    "img_masks = os.listdir(image_folder)\n",
    "for img in tqdm(img_masks):\n",
    "    img = img.split('.')[0].split('_')[0]\n",
    "    if img not in image_mask_present:\n",
    "        image_mask_present.append(img)"
   ]
  },
  {
   "cell_type": "code",
   "execution_count": null,
   "metadata": {},
   "outputs": [],
   "source": []
  },
  {
   "cell_type": "code",
   "execution_count": 9,
   "metadata": {},
   "outputs": [
    {
     "data": {
      "text/plain": [
       "10516"
      ]
     },
     "execution_count": 9,
     "metadata": {},
     "output_type": "execute_result"
    }
   ],
   "source": [
    "len(image_mask_present)"
   ]
  },
  {
   "cell_type": "code",
   "execution_count": 10,
   "metadata": {},
   "outputs": [
    {
     "data": {
      "text/plain": [
       "['c0fccd51fdd784f9f0d708682293ed14',\n",
       " '698b4103a9f029886d32065d2ff436cc',\n",
       " '194066dc552ca10537a8aa68fbf1f65b',\n",
       " 'da4b2e029abb2741bcfef60fa7ab10b0',\n",
       " '0960b0d7aa0b3c3cb95acb72e8bcf4e1',\n",
       " 'db4f4e9261cf53d2fa74e15514d95680',\n",
       " '340517b590a8d20a3c8a13c8d3df4099',\n",
       " '095fc465913010fb51c3499000813454',\n",
       " '54e704b4854f66b42a6accec834e530c',\n",
       " 'e6cccbed431da8be9c7590655e5a71a7',\n",
       " 'bbb2cb27e4dde35199f7bf86bd845018',\n",
       " '0c6c14ee4d822472a576f1f6650d79f0',\n",
       " 'c54f0e85e9e4d397843314eed507d06f',\n",
       " 'd84c84c7e96c8a3609150e6afc1f1186',\n",
       " '2a6c1b639b5a5d0f32b60d8874f517b6',\n",
       " 'aebe292567e0f8447fdc94994189a80a',\n",
       " '8f0014b11255b876c86bc3962d82a99e',\n",
       " '0e347f2fd5526d221233e35dacb2f79c',\n",
       " 'b24d10450d164e8d0ec568628e8c95d6',\n",
       " '9d631d064fda13e2c2641d8ee30d9a2b',\n",
       " '5edc82d679cc29b4d7720bdc45c1ad45',\n",
       " 'fcb820c8c3ea34338e648444b90b8307',\n",
       " '560e4f17e8b93958846f1186eb720f76',\n",
       " 'ac8682bef4c6309210b50279feff0a83',\n",
       " '7fd7f2b3b421239d1874a2feaf76af8b',\n",
       " '0bc4086b7c5ed0463dde3926f10fc298',\n",
       " 'f3d92b6ae8a2ad0325d714b395229e79',\n",
       " 'dfe7fbb735eb6236b19003fa50ac45d1',\n",
       " '1a66b4d3dbb1089891835d2698c6deec',\n",
       " '0e8b496c4be0464a4808bbbe846334a9',\n",
       " '2e334c25ab0f1ca7dfacf732073be953',\n",
       " '22e0f8d843db20fc522b7aa9100ba15d',\n",
       " 'cd382fdc26516c634b2314aa870bfe80',\n",
       " '1f73af67719cfb51ccbe7673118cacf4',\n",
       " 'bf7d0ac2494f0521ba444a5de2ab587f',\n",
       " 'b6d811787ee589d5c13dfd8f3aa893f4',\n",
       " 'c7b0acedb4eb5178f14ae30d1c3053b7',\n",
       " 'e2a4545df1573a6e824d3c2f73c060f5',\n",
       " '4f066c3230d1e0d5f38a1837ea1a86e6',\n",
       " '79212be3df3e81973f9e0365920f2282',\n",
       " '92ac748f5a590d8cb9862869c56ce0fc',\n",
       " 'ae4ad154b75bebccec42417cb00bb08a',\n",
       " 'df29712be2badfd7ae0ef37d30759042',\n",
       " '162cd4fc05480042f1429d3eaed599d8',\n",
       " '19f82c826d1b9406c778eb66d2e5c5ad',\n",
       " '647946e65654e3e71e42eea5cc95d01a',\n",
       " '1efeb4184829ebaa4d10c223e73c5d4f',\n",
       " '20295d0f4917e297c4827296397fbec1',\n",
       " '5be8d68eedfec296cca5d90a403e1025',\n",
       " '35b5971800492e04d2ecd6b3439b0017',\n",
       " '2504201b348be545fcf6c73ecce13532',\n",
       " '94ad34192c1c300da99532bb24fd7bf3',\n",
       " 'b38e72d2908a5d20eff762250c94834d',\n",
       " '89d6d529bd9f478c421a03df16c7f462',\n",
       " 'e00211e28b1305eb266b08e6e9583df1',\n",
       " '563d7dddd23d62e86b3d0e020b9e7c0a',\n",
       " 'ceee1afde9b68b8b353407a7358aa48e',\n",
       " '01b3d1fe5b0bd538d1e9824fe7d2d24d',\n",
       " 'd807d55521cc50325c2cb0aa60efaadc',\n",
       " '9a4f94a859e0553fc06a21fb30fa86cd',\n",
       " '1836f6539ccc9e37d426603cc4526f8b',\n",
       " 'bfc6ccb20af434cfb505aafc00dce754',\n",
       " 'ab7efde9d27f2e403ce778a9df21f8b1',\n",
       " 'cddfb3fb31fdb7cc00a72c4fce6a1a15',\n",
       " 'd8c9f66055f7d4efda021bee79e71a9c',\n",
       " '340a470bf7a9667523386de85bafa32f',\n",
       " '03cbe5d39233a65cd7f64a81094ccc54',\n",
       " '1d8de93e7c638323a0572bbc7e3c927e',\n",
       " '25e85593a9a51bbe10d9a2821cb096d9',\n",
       " '8cc1c091533e03551a86a72173640d9c',\n",
       " '8900095e28a92eebb25f469b67d29b84',\n",
       " 'a9b52672e84888c7a26fc2694106f86f',\n",
       " '3e3d938e4279c4339473f26a7eb5020e',\n",
       " '019c1b40e6ec7410e8356c5d8d487954',\n",
       " 'b0fd3778526aec216e7db68d267c0897',\n",
       " '84110cd444dd25fd974e0cdcd1df8065',\n",
       " '5816a0df3d7ee85e541bc091cd279e9b',\n",
       " 'bb2fb7ab470f27bfd02dd9a42b6c5255',\n",
       " '9841424d99b28242ac069a04eccf5155',\n",
       " 'f46555b9ae9ee3f8b4897da358e2094c',\n",
       " '507bb5873324858d94e7ea6bd043fa66',\n",
       " '57ed01ca752b76a1a02348b1e4492565',\n",
       " '3efcd150bd22aecb8a7d7899dc11b27c',\n",
       " '756d99387536d5721fcf4cf590627179',\n",
       " 'c3f5378fbec18534005c2d1e46f1cdfc',\n",
       " 'a74b7e612f31cff7ed905e3c92ae83d7',\n",
       " 'f7c97aeccfaeb2d9e84414c5c5e6db22',\n",
       " '45960112d5ceb77e4e61c68028bfb160',\n",
       " 'dbd4f6f4fee92f77e8847f704635df6a',\n",
       " 'f8b3ec914967ad95c62ef0296964394b',\n",
       " 'c57d9d2eff7cf42640303467884d8c24',\n",
       " '9b5d5449e1950fd9a1cf794574c56a4e',\n",
       " 'f82b48c5ef63a291660357ded12a7ab1',\n",
       " 'ebbe1801ed68a97e435b960a9582a39e',\n",
       " '32ff402bc897175da9f8cef21d98e3f7',\n",
       " 'bced61c055b97795c15fd6020cbf1c96',\n",
       " '6259bdf29094e9a832bb47b970ff8cce',\n",
       " '9bb08719f4422442cba4253b2ba34b62',\n",
       " '3acfefa2f174d9f3f555cae12f5394ee',\n",
       " '5f537ae857febf9281dd301fd9ccb5f2',\n",
       " 'b8375d0d9e6a0c25de0da5c917e11ad1',\n",
       " '8603409c1d32c3fd6eb43f0a6abb0857',\n",
       " '9cc2751013da725b91b353552f749d04',\n",
       " '05b09773ad1b34275f0b5adee3c650ab',\n",
       " 'a32e09e8ff4f2b362d60fb71db87abfe',\n",
       " '010dea54bfd0a4a1eb1c0719949bb4a4',\n",
       " '05056b81578a9c162eb0b0d4f1688282',\n",
       " '4f6efdeddfa91dd6b14fd63b1949f0b9',\n",
       " '69aa17f4856a40568185449b4d2db5c3',\n",
       " 'a6bb14d29c43bd60e289adda03de9687',\n",
       " '90eafbed9a8929f535b122c7b164fcf9',\n",
       " '51c58c76e2907090db536a7734cfbabe',\n",
       " '78f0437fc3a127819021a03457b2d060',\n",
       " 'ab61ab08ed60be2098e236b2924f3a1c',\n",
       " 'ad6e90147030566df6b1353432f41662',\n",
       " '5a258172c6d220c464e500a1fb880b20',\n",
       " 'c45e498bf134c619d637029d36efc78b',\n",
       " 'cdffccb112b4bc1ccd2dcc1cc3e948cd',\n",
       " '2108712d16ce155cbeff56ce3bb3105c',\n",
       " '921e586c2b5c9ac5b164f2229f7ea9f6',\n",
       " '77a8d4500bd331027b965e1b1e581ab1',\n",
       " 'dc4bad3ab7879ce3549eb811c8e9fc1c',\n",
       " 'eb0784168cd25dac78137baa950b3c73',\n",
       " '7d75d4e19e3190f348b45a143b777862',\n",
       " '7c76b2d2d594d18430096364ab23f9a9',\n",
       " '3f73471876577f909fcf6464ca0cd25a',\n",
       " 'dbcfc69f6726c51aaa6381efe5bbf8c6',\n",
       " 'bc79710a91205883cbaf384d689b87d7',\n",
       " '1163571b3edf666ab3a1dd30686e7530',\n",
       " '0b60ac39ce977146c4bd7978d62bedeb',\n",
       " '1e01dfede475c7b0f80e89d31bb99f1d',\n",
       " 'fd8f72156916289ccbcce7ad19b2ee69',\n",
       " 'f26cb783502346581823270926f1279c',\n",
       " 'e2da537552bbe880cf184b4cf998388c',\n",
       " 'f102169b07ee29e61ed6001725f076e7',\n",
       " '1ae5bb38e69e00f22cb087a4d2237b43',\n",
       " 'f83b92c580fa7d6faf97f81474d9b2e8',\n",
       " '5000abf0b5e24707cbad9f17e50db021',\n",
       " '4c9cb3b8e0f18845b3911cdc31d6fa94',\n",
       " 'c5b17673fd678b4b919933612741cab6',\n",
       " '4f3009804e0c17dc7431a57a0d2e544e',\n",
       " '1f714e09f15848bb3292e917f711333a',\n",
       " '3c65a1c66c85c220069dcd52c3bf026e',\n",
       " '00c46b336b5b06423fcdec1b4d5bee06',\n",
       " '33ec4577b716c843eb1224b41204aab2',\n",
       " '4f050d873038964b8be2a72d0d67f465',\n",
       " 'e1dad4d35e61a13a237774ccfb24ae9b',\n",
       " 'ed2306e1735ee4b91480e74fd44e5a66',\n",
       " 'c51bd12d683f6307a8e906f214fd5125',\n",
       " '8dec7220900f4ae24015b2fabf50a48a',\n",
       " '738e10c912a9f554aa16122f48181c50',\n",
       " 'e5a167f697628add6a45ea4e447465bd',\n",
       " 'c681fa95a9361c347afb66028b70a1ea',\n",
       " '5dc2eb47ce16235ddb6da0b2bd1f449d',\n",
       " '6e2e6f847032e2b8823d91cd52b3ef2a',\n",
       " '30c978d8a7cf9d17410584f1fd4bf5ef',\n",
       " '29053c264a170a054de97ff356245dfc',\n",
       " '32eca7c7634f59e3b286e3a89461f95c',\n",
       " 'cf19cb0a9afe665714916a274c300702',\n",
       " 'e0311e5009e8850659a12533811c9cf8',\n",
       " 'ef68712b2ec4cd57f06e74889cc021b2',\n",
       " '8b90a3312d9fc702a9ec8236e23065c7',\n",
       " 'fd672406fefb198aa1c5822e90c6170d',\n",
       " 'b48da7b81527cb6b406f2187043d9626',\n",
       " '777fd967a1a841b60733bc1b0679576c',\n",
       " '463b0017e84cfe5ed9e1e78c99a22554',\n",
       " '1cb4a7d3594586b84849e63b828de968',\n",
       " '2d5d881e4abedaf2afa83807d93d18b9',\n",
       " 'd52aeb8671398a50464cabf9927fd86d',\n",
       " 'b084fef2354fe904f2279fa7d376855b',\n",
       " '90169c13e631f83d6c2d9263be03aca3',\n",
       " 'ea1120bc6d2ec892001dfa0c6fce96a4',\n",
       " '40b77e31c4eb3d38482d0670f27fd17c',\n",
       " 'b790c95b8efb85a4e600533cf0444937',\n",
       " '9f3e77cfdd5dd3cb3de45467d5795bf4',\n",
       " '26aeae00f116e0b0154b8e9e7df44f28',\n",
       " '2592cfd1d3e053e519598bab9423d279',\n",
       " 'c77bd8989dd84946aec500d407764026',\n",
       " 'c303cc999de4cd885cdc8450af892c6e',\n",
       " '2c8fd1d0ab8640342f6d10a0a54e5279',\n",
       " 'c59fbad418d8ef56859463c22c4fae79',\n",
       " '324f605f884d850b88a4fb5db437eb1c',\n",
       " 'e0f850185533c61897ea1e2975b45f4a',\n",
       " '0bbbb6734f721f4df4d2ba60ade0ed15',\n",
       " 'b35a329a109e2b210463e639c8141f39',\n",
       " '97845cbd34d7c2f9ea7d76fa931f5412',\n",
       " '35e310aa5194c62964c02048ac88ca64',\n",
       " '267f0ec89d4c07f0a113e4ebceca7d54',\n",
       " 'e8d76da2d567c88a5f7ea429e58b74f1',\n",
       " '0b90de9a5e884982c165c6f2a46c5762',\n",
       " '0ec5bf6cbb0a9195b4db46173203a848',\n",
       " '71f3ff8361e8d200a0b497ec2cdc2097',\n",
       " '158b063304bd83f4f6cbe952de5325ab',\n",
       " '908f1b399873681da17cd24b94c85714',\n",
       " '39114f65aa3185f05c4921cd2ce081eb',\n",
       " '961ddd3709d84bd6dab09205a1cf5606',\n",
       " '1438f19e07c389b47fd5219ca62f9f0a',\n",
       " '1c36c6b2d051fd1952232efb2613808d',\n",
       " 'a181feea490b34becd1c7dfa775bd941',\n",
       " '4d30d4e5e4ad03b56b9125263caff7ee',\n",
       " '7fe78b22d81b42d3bc08fca264448aa0',\n",
       " 'c6b4ba956e1d4fbe744d6e2839b4a723',\n",
       " 'b9402571270ab62c1e0a690fd33fc9e6',\n",
       " 'e726a8eac36c3d91c3c4f9edba8ba713',\n",
       " 'c3e1a7ddeabf06edeebde219d8e86578',\n",
       " 'd5f066d179ba659ba25b2a6846619356',\n",
       " '6d813cb6cb9485c6222a20551dc1da21',\n",
       " 'af2e93677f85a4ff065cfd55c279793d',\n",
       " '63b475ef802ec75075a927c0980ca3d1',\n",
       " 'a762752f39d1c1b4b5c0aa7cc7f98364',\n",
       " 'd5d31d19fd6fc69ccb385e975c64e967',\n",
       " '067bc8b33f5a6415e4f4ef61bef2bcd5',\n",
       " 'ed9a38a9f1dfa898e536cd91f13d98b1',\n",
       " 'bcfa17affb4e89ebd01a97c580ed4cdd',\n",
       " '221637f57fab333edc9e75bdebd06685',\n",
       " '497cc4009e9ae310b54de6412cbf8b4a',\n",
       " '9e40b83c6ac2b92e2426b717ed1a200e',\n",
       " '0c26185c4a50226bc489999b62860aab',\n",
       " 'f4a6b5ec0ef8bac031272e4ab61fd926',\n",
       " '59015fdc81a6151f09a59e807f6ed5c9',\n",
       " 'e61f5f4feabbb1cb6c09a2bd4494b916',\n",
       " 'd650074cb4c31b78e04d220718bc0eb2',\n",
       " '142bb88e0db1abb959a792eb24b646be',\n",
       " '63943deba402196b1f80f92b23881ddc',\n",
       " '9f63a48ff9b5d0014f8685e43ad28d80',\n",
       " '2ebdf4f501a6a50b16697d8f1b864791',\n",
       " 'bcadcbc70af9a0f20cdbfcb2e6689b6c',\n",
       " '57725223a6509d9038d62a49cca3588b',\n",
       " 'f2d4965abc424e27c5d482ac0155ffd1',\n",
       " 'f31c2c896158865d4665f289e2a79a68',\n",
       " '18d067c6e901818fd873836a73e927e2',\n",
       " 'e610af2c9bdb892102c1c239c836121f',\n",
       " 'e1a521bd98594307f9b46be2b2d06d03',\n",
       " 'c00150f4dde0bf6e3c62c57c33d77731',\n",
       " '0ad4f3538ae67d99a7dbfcc01b2d2dd8',\n",
       " 'df37b8ec68090eec1e663b71c5ea6371',\n",
       " 'fd05529859cf5ee53ab967a009dc7c06',\n",
       " 'd63d91554034819d23760849ff0c22d5',\n",
       " 'f0d3a67702abc214a7ca6c1158e5a62c',\n",
       " '51ff3767b587bc0e3d8bf9252fe7e1d0',\n",
       " 'c266773fdf88a75561821afdb49cc0e0',\n",
       " 'fa6f7b3a6e9c17919d127c670423774e',\n",
       " '8d6d8329cd0bbf6d0356b300f83d6b6a',\n",
       " 'd5b260922fb628cf83d7960ef02c4e60',\n",
       " '21708bb4798bdebb4bffb7414bce44cd',\n",
       " '2700883b744706feb3a8b1ec69563ee9',\n",
       " '06ef49a7b77e883f089cfdd80642d6f0',\n",
       " 'fe2e96fbf3e76e9983d1cc4d90ef957b',\n",
       " '34238501396310a6512eccb0120bd85b',\n",
       " '8b45517c6411802b7f978e32cf741a33',\n",
       " '53cc16aa53cffa0f5819bd9f80c27f44',\n",
       " '7f99c8b70a5d283079d10fefeae1d8a5',\n",
       " 'ff0f8705f77b14b2a84b498933adf18a',\n",
       " 'dd9fbfd8ef47f7ce437fac74ea034f8c',\n",
       " 'b5ad6c0446b987d1f33df121e2512331',\n",
       " 'b65538bb9960f77e666ad4a6dcb6a77e',\n",
       " 'a45c077803194bf256f58964f457d5cb',\n",
       " 'cecdc96ef01669b8823a27ff711d3026',\n",
       " 'de3b05db139bc09c5fd3b846245d647c',\n",
       " 'fcb4ae9ba7f26027fda8eb1d814a808d',\n",
       " '7ea5dd01892d17a7c49acba9f627b271',\n",
       " 'd6807acfabc838eb944b797b116d3fb4',\n",
       " 'bb38663adedc6162aae373320b17cb91',\n",
       " 'e977901dfe6c8ff87e5bcf5c513250ac',\n",
       " '223e1179a9dcf7c13871234edc99fc1b',\n",
       " 'b470c2276d978f63d5b1c8a5a9446212',\n",
       " 'ad7034bae392023948d298bab07cb934',\n",
       " 'cf9442b28b0296a240c1766e910ab08f',\n",
       " '3ec6c7eb5ad53fd8a1641433ddf33eb6',\n",
       " 'b74f213d6ea14c190b0f65a953d662dd',\n",
       " '9d9bd3cca3f59a198ab1d9dd5e5d0dd2',\n",
       " 'cfcd8b9846989be50730a0fcad497edd',\n",
       " 'c47a7606008a95d1a8ecbb86ea91c30e',\n",
       " '89a8c3dacb902dfad95f51a5832d238d',\n",
       " 'da998451f0bdaf4e16b7b41c0881fcba',\n",
       " 'b13de5e3add05a187e393d0eef314891',\n",
       " 'bdcf536c984be757589271cd6a80066e',\n",
       " 'ab756d70045e2af65e394f378afa127f',\n",
       " 'b53c1a43644615b8e537cd4ea34d12e4',\n",
       " 'f00a8cd34ac361a3292c2d2361bbaebe',\n",
       " '15ea2d5d326ff73f1f5b25bf7721232a',\n",
       " '833399dabdc938cb8b0bc8321c8a0b47',\n",
       " 'b263e89dbfd95e61cc803eabc460d4f6',\n",
       " 'eb17125d3f2909f7e1702013b65188e5',\n",
       " '17e370eedaa11c265e5cabb3601a2fd2',\n",
       " '6fe956eb5739f0877752cba783828cd2',\n",
       " '39026a5b4f7486acd7ab9d02482ff69b',\n",
       " '473554584a1ab1f83aa3e758b6c6238b',\n",
       " '4f0d03d08a5583138eaed5761f895d28',\n",
       " 'e55c0c51b9ec0963d74029d2de84f85a',\n",
       " '5eeb5f06877a051a7a7f99ff151919c3',\n",
       " 'de7b957abbadd1ccd6808254a157207c',\n",
       " '3ba4e8d4a0b0ef0ef31383ff7cf2b76c',\n",
       " 'f80762497aaa467658859f20ca56f875',\n",
       " '5f8fbed589d176d76b04935caa744bec',\n",
       " 'd3b34f76b7192172d6ace4f167cb3924',\n",
       " 'f64a4e01ea89ad9bc824c044bd57c1e7',\n",
       " 'f2834de66b368822707e312afd57fb52',\n",
       " '67c66e9eca1fcfb74aa64b5b8b9f1615',\n",
       " '7c26678aadba2c12ebfbf4dca5d23781',\n",
       " '2b8ffd4a93e66e9e5c043c02f73cf902',\n",
       " 'ca0aebc5cee6bc82416face9227ea416',\n",
       " 'e5e5afaa4adc21dd69b387dbcb91aa74',\n",
       " '9772703b74227547ad49265a1f70b9c5',\n",
       " 'faddad3fc69d1d260189385b8139f91d',\n",
       " 'dc28657d68bd4a5a387a0460de8db3e2',\n",
       " 'bde1eb4986f82c9cd031689fa8f5084e',\n",
       " '367107929408ad6c749310a0f665bdac',\n",
       " '584dd714859c8d8ac50860e98f36075b',\n",
       " 'c7013ba37688f54052b39d045dc07e2e',\n",
       " '2daec36424a8f2afeaa4aad3d33a1589',\n",
       " '6905286a3f8f3d33dfa27a738f2b7f67',\n",
       " '05cc3233dcb5489d2333ee62339a3226',\n",
       " '28e7aad04d25346b6e27220e15ffcc11',\n",
       " 'e561cdb33e597cb88ab37af8d677eeac',\n",
       " '6eff61540d687bb80f2eda923b2dca9b',\n",
       " '5a5b227860e8d559b45519851908fb03',\n",
       " '2babdf1162041d360cbb252043e5912b',\n",
       " 'ee0a0e6973db6eff6dbd31ad6dc2beec',\n",
       " 'b2e49a8c3c4609119bb4673cf74cb7bc',\n",
       " 'd619aea287290e9eefa449d1e54ed333',\n",
       " 'a733ebe1241b7fbe187b49b7b5853f7c',\n",
       " '4f745b85014ec7c571b4239dee6233cc',\n",
       " '80dc4502ba1cff1616abf553065b6ca3',\n",
       " 'e60d83653ba08e579999f71505107278',\n",
       " 'abf5960dc8f8c6ba6b9d987a6dc603c0',\n",
       " '5581e01257c48c867a21484c2cc2106d',\n",
       " '09509b4bff15ef7a166e7964af2d683c',\n",
       " '14ea2c01b8204092d14b2b182128b9b4',\n",
       " '48bd47168b46db9cc22f1c4cdc1c0ade',\n",
       " '859651fe24367615a0f77ba556a196bb',\n",
       " 'ef78804e47bf8950bced09b56309ec0b',\n",
       " 'ddd0edc9c6eb676649934adbb8ab0f8b',\n",
       " 'a733239073e6baaceea3825537584b23',\n",
       " '94a91bf6dc832eda6a8f9fc70aae77bb',\n",
       " '2b279c048e084401a4f953ebd66d3c84',\n",
       " 'b91ce7c3fca8163db4368a79311d3c54',\n",
       " 'bfcfacaf16cdb542c6e12e6deece7079',\n",
       " '70fa73960db8729c176876aefff96562',\n",
       " '6fd2d42591da02ae878e2d5c74bcc98f',\n",
       " 'a48b27a0f0f78595b8d71a4b373acf81',\n",
       " '804faf47d835837cca59bc56dd9ddbd5',\n",
       " '79c1bcc4eda4d24d26faa9154123774e',\n",
       " '99a799d89d57d1dd0b40728a6b7796ee',\n",
       " '33453ab3633e39269f3368e83acb993b',\n",
       " '2d8152a733d8da8e84f75e6b2174c420',\n",
       " 'b31da8462061d770024e293ca92e0086',\n",
       " '2130725064d39284b1bdcb57aa584dcf',\n",
       " '4f7296f162c6248fdd1e06f5aa5d6eb3',\n",
       " 'b270f117baefdd746d465fc108dec021',\n",
       " 'c5cd08b16fd00a4d27e66bc0b133c5fb',\n",
       " '620a6fbf50a7463ed0a8932782d7b969',\n",
       " '1932ff2c873d7b98914c8bf50a32f263',\n",
       " '351a7cf22baaa7916631910a15f148bc',\n",
       " '913061935711a7144fe223f4606ab68c',\n",
       " 'b28d4d6124a0ac2910a1629df758cc37',\n",
       " '1b6ada2e6a396b9fc86ec1905b3c017d',\n",
       " '89afbbdd7813f149b3a047bc544046a8',\n",
       " '58d439e1cf180a952bd059b6be710665',\n",
       " '0838c82917cd9af681df249264d2769c',\n",
       " 'c8e8e1f2f14c1d8804551ca9233442e6',\n",
       " '7d5dbfb91ce9be33221e4ba9358326fd',\n",
       " '0cf88c432c44f7d163afb692e6d1000b',\n",
       " '5d3fbb68cccb100204a57b1b80b3171b',\n",
       " 'd6112e98bf1d15028ccb46cefd393241',\n",
       " '55c0eded30c834f91a4a717776f781e2',\n",
       " 'd1904b78395bd1b84534387a26f1950e',\n",
       " 'b4bd3a393ca7c948b7e4d9b42c697fd3',\n",
       " '636e0e81d4b351bc50c8731f557bed29',\n",
       " 'c245396d5fb0a528ae2983ca28fca472',\n",
       " 'd908ac781e507048dca9b45d93fcec44',\n",
       " 'e7ec6453face5f38923755adeeda2677',\n",
       " 'ce6d24c6c8eba65c1c0329505c6f7eb6',\n",
       " '47ba1e7344da00d621596e398521adf3',\n",
       " '10dd67ea8e8fe3edbceeabfff19d1934',\n",
       " '199cac82a1dd58d80c3f29213f2de1cc',\n",
       " 'cd452ef8c793e13a8caae24e65701f3a',\n",
       " '59d833e569743be1b04d6494358ed3ff',\n",
       " 'ec009ae101199666b6840588867fc1d6',\n",
       " '4019c455d02fc04d8b1ce42e32baa71e',\n",
       " '36c8f9a16788be091884e5cd1688767f',\n",
       " '8c2a787d5962f32f6a0356b298c6b9d8',\n",
       " '11a715facad7b619e3213ce126be1c77',\n",
       " 'b1114c073fca61e3458f31b3c3a5b155',\n",
       " '50c4ba6278d1218afaf32150edaeb90b',\n",
       " 'ba37d4ba1abc5cddbff519bd4bd90b15',\n",
       " '0005f7aaab2800f6170c399693a96917',\n",
       " 'c5b7afdd9e4cd1b13dd545fe28735620',\n",
       " '363cd7b84bf86e6c8cd7073897b97232',\n",
       " '81e6e8f65b2cf6495c7a009adeb64569',\n",
       " '1a60c75983db9d7a7d8acada5151700e',\n",
       " 'ea60e3c915ba5b5c9a8baa619e3752bc',\n",
       " '842f019a8604e0323ab1a9fe53814f54',\n",
       " 'a4effa6d0c2e32e36e45f32f9e7e4977',\n",
       " 'f776385879402e2940d3627015c3a58b',\n",
       " 'ca7ba25b885ddc868383d36ab35090c7',\n",
       " '6aa05e4c2cd649f22d309c40540b4230',\n",
       " '789a88aa6341166fa4e3e08647d3d0e8',\n",
       " 'af48aa2477b1f92d2b98a6eb6993873f',\n",
       " '51aa1de7c4bbf08d3dacf37183832cbe',\n",
       " '72b9ca2c11e1a849e053013cd5e22d56',\n",
       " 'ef354802197e3eaceeaa43a62e39cf6d',\n",
       " '778bd33e4eb7fbc28402051743b78aa2',\n",
       " '38a223dada7f3cf7e108d661bb19f6e0',\n",
       " '5bccc3ae5587647b3f6b3a1f807bd9ed',\n",
       " '3484d8c6a8bfbbdd516bb1e57a338953',\n",
       " 'b9d20ddf4a37b9853aa63f0208a7d1e2',\n",
       " '2b730c057bde4c56e79f693e3d577138',\n",
       " 'a5f7e4be7d541aeab8b4b45f9a681300',\n",
       " 'bb5e9c142a265b251a4d9704c7ca394d',\n",
       " 'de25838fbbd4c64febcac5c2a7c094bc',\n",
       " '91256e6ad32ae5faf424a89a30b7a849',\n",
       " 'a1e7bd4137e20d1bc42c637990986dea',\n",
       " '922a6f76e21a80e5163ab59395b3cd8a',\n",
       " '3a7ae2d6d9b4bec6df2e203552dee342',\n",
       " '2cd0af2f881832c9f718c8f435048cd4',\n",
       " 'abfa45d8a5a8615362ec7e70e7f57fff',\n",
       " 'edac2fa7eb6c5e893625800c4aeea7e3',\n",
       " 'e08b3873a528bb51f5e099eddeedee5c',\n",
       " 'a273a79b0d6373074b9f75aafd1dd11c',\n",
       " '42cf121581417ac7c84a4f8c4ed9b047',\n",
       " 'e948b70d1e102a039a6b93a4be16b323',\n",
       " '749bbeaeb604f1b95ef49b17f9ffa417',\n",
       " '3516d06f3dcb2e9959661efb48cf081d',\n",
       " '18566c8e26d5b14f599fc92acec008e0',\n",
       " 'f1f5f493f2f436a7049f899b4ca4bac6',\n",
       " 'ec351f4577baf670e6008a5ad49c9e96',\n",
       " 'ac0d8bc88d9ec900be978a70b90e425b',\n",
       " '2f1c751ab10b8b009b3391ae86acf6c3',\n",
       " '0bfcd33173d2b7e6ec7b2fafc20e004a',\n",
       " '2a2811b6c2f277fcdef16f4582a41421',\n",
       " 'cdb85e317139cf608d514e1c8653d0f3',\n",
       " 'cf6d2d5e9dd37892e7aeb4cd12f76db3',\n",
       " 'e46980d2dd4b7f4178b2cea4c4088014',\n",
       " '665fcad8a2159796d111633809f6d0b3',\n",
       " '836ca5d73c88ad94fb980ca3e5e65da7',\n",
       " '9c37e4cad0a3fd8edae320d73c314e8c',\n",
       " '0dd642748050ba621498690175a3bcb8',\n",
       " 'd415c5d834b992fdc0ad3bcc9fdac22f',\n",
       " '88865c437104f76ab06759737ced0cb9',\n",
       " '69da9f886fc4413167b8b144da775269',\n",
       " '6e3b4eb31cb44f063fbfa2b7aa2d9861',\n",
       " '53f4825dc7b4f778b7b0a7baae38aa9f',\n",
       " '4db0a8e19ffe9e9358d2c64a760d44d1',\n",
       " '9764904c92cb4febaa3c7a4182bd4902',\n",
       " 'fcd30c804d93d4cfa1f42e37c9c09648',\n",
       " '73f6bfb643e1d0d8d3868b7f1f0cd33d',\n",
       " 'c6d87f56f56c456d38f3b6967eb21eab',\n",
       " '28df755fd0a605c432d3342214f8cd65',\n",
       " '685746f405341f7cdd4fcfef07b41bda',\n",
       " '2c66a2cdbbfc4bd3b96f1039ad3fa630',\n",
       " 'd15706b4cad3b7f87dd260aab604b25e',\n",
       " 'db8ff1904b4dbb6dced48061856d9849',\n",
       " '6e9f8456612b8c7ee6c4a5027539bf80',\n",
       " 'e354fd60e3f0333efc94de57c8aec3c2',\n",
       " '7c03cedfde9bdd397d67c010fe7e61e2',\n",
       " '554f99db864d559fad9886b122c11566',\n",
       " 'b7376a7ff7ba49a02361e8a6db3ec5b0',\n",
       " '033e39459301e97e457232780a314ab7',\n",
       " '85696dd6d6be278037fdca733e136f2a',\n",
       " 'aab7d22839e8ac0821aa2cdd1650b39a',\n",
       " '55b2b9388cfcde42069bee4804274884',\n",
       " 'fe1d0b156ddba991585791769dc9ede9',\n",
       " 'bd6784d49c4ca6b44c1e106ed032618e',\n",
       " '5618b00aeacbdf535a22fa008a8f2ad7',\n",
       " '1c6e04c29601f73eed22bd7b6381b8e1',\n",
       " 'f7d4742181dbabcd86644ec7781c14b4',\n",
       " 'ffacf52d0c9b3fbf644373c7da4026db',\n",
       " '73a68f27d9581434d99b621f0c2a434c',\n",
       " '3546206e8f2a9495e81fdd6af08a5a6b',\n",
       " 'bee357c2ab4deb8d82094c1254c40379',\n",
       " '825c8dd05f247898e8a10cd19118805c',\n",
       " '08abd36dda089b53088bb7bf7558336a',\n",
       " 'c76877d174f7020e6194d6b06aec770a',\n",
       " '1392751dc2ff4e148c89fe975c5a505b',\n",
       " '9d14c42db92e5ba66f97630b55e1724f',\n",
       " '1af7e665c7903097d0805cdc95e9656d',\n",
       " 'cc6cc8edfde85b399233cf8d891de0a0',\n",
       " '19f3f3265bd80f1ee68cff968541639a',\n",
       " 'dc474e15a61e861a6a14f334e10a7934',\n",
       " 'de6b31466c0af9a7024de03a5540f1f7',\n",
       " '19cd8d1657528f7d4895398a6fd093ec',\n",
       " '66c3f1134c199363086f278ec30c3e7a',\n",
       " 'da610fb22e9ba742ebb7a9117b2f24cc',\n",
       " '084240df70f5d10ade5f913e7ec86637',\n",
       " 'd823184dded7ed43bf7b5515861ca0b9',\n",
       " 'c129618431d0a7f63cf0c8e6c6da82c4',\n",
       " '05f79307ac65a11d52caeada92e68949',\n",
       " '8c5c7ff38873658e6047f7bd39ba0a98',\n",
       " 'd696ba8f2bf63e937f78dd9e911e9025',\n",
       " 'ff596d5292ab979e9ba7291d0743b3fb',\n",
       " 'b11087a73392df3c8b07abea19b5c3cb',\n",
       " 'e02856c4928623247b30d6113fbe59fe',\n",
       " '9dd40c0127d217bc4917e4db40e06e94',\n",
       " 'be24de51dde9ba0c9808dd4bbd28dda3',\n",
       " '64ca339ecc5ba72aa4b27a73a163f807',\n",
       " '52c1702d27eed470507c4327b9ccd1b1',\n",
       " 'a74fcdf2a5734aed98ab883bab52604a',\n",
       " 'a09c9526e3316571648552d78ac37c2d',\n",
       " '5bd19956ab63289395ba2b259a9aa8d1',\n",
       " '0c52d7167d0b75dec868020c35f4873b',\n",
       " '78f76ff1752f95a19bcc86e28c89b70d',\n",
       " '290c577d0c6de06fd2c82375427d9bd9',\n",
       " 'f9e8ad3ad964070f290c2a53dc431852',\n",
       " 'a62919a6ef21aba9bbf14e725f882b8e',\n",
       " '9e47e424e9fa1a9ef32d9013522df425',\n",
       " '632a836af7b82fc1351e5e6955a33c9c',\n",
       " 'dffa5e1d1d4501837cc9aa54a56ae1a7',\n",
       " '933f22ce388303435d472aa4f9a56d66',\n",
       " '41cb4989ff5f99e7fee7af7e666e8319',\n",
       " 'f670f645e4f75d7643d077237dea3e05',\n",
       " 'bd2272491323c5b546c210316e6209b5',\n",
       " 'c993a5b569eace9eb753856fde10c151',\n",
       " 'd3c7604d072872f207a5e4cf31678fb1',\n",
       " 'c8a09a4ef05f4b37037251a76d8f5d68',\n",
       " 'aadc8c10f196efb7e460e0c424aec805',\n",
       " 'a9635e180394f1ed176bed3581cac969',\n",
       " '74c2ad4cf2820e6ede00c6c4fb3e4ab2',\n",
       " 'cc759aa48c28b7711bfbfc7ebbbd762d',\n",
       " '9af29ff084d57c2054d6ab6d4f7410c7',\n",
       " 'a9401a16f89aabfa1821aba90a64d3d6',\n",
       " 'f2bdcd0529edc4f24290b17c93f49743',\n",
       " '9741cdc1c51f48c18871789cdb8491fd',\n",
       " 'e891d0d99672757464ee838a0794f424',\n",
       " '623a22a6d357ae6cb2269fd6e6ffe457',\n",
       " '4c21e2684e869a2ce2c3444d36193e8b',\n",
       " '92c47e36f3e35b80eb8798558ad37e10',\n",
       " 'c434b351328d1202d90d7468be10c46b',\n",
       " '35c8527cc2fb55f7d9d96d63bc9bd165',\n",
       " '96a65a6ddc0ff8bac4231b50957ab64c',\n",
       " 'c7895d9d29c159cc4d57f07cf7d755b2',\n",
       " 'eb88d9362516b7ff394e7c3b41d2931d',\n",
       " 'b2d4e1936bbd844314468799f1f35443',\n",
       " '365b34d59b0132366fd9feb0138ca7ff',\n",
       " '24059c009e9ce9f671be3182eb6e24e3',\n",
       " '573ad8015383dce02cbe6dd1b9b0819c',\n",
       " 'b41b3c6ef6d6f620708f59026be02f94',\n",
       " '6bd476d515d75746bf716e578c704c3b',\n",
       " '41a057757b0520ff53068b6dcce9731e',\n",
       " 'ff6e67a5f0b674097f5142ec24eb8fcb',\n",
       " '09fc43e064588dca30345bf48cea81a8',\n",
       " '164c55e525662562a2cfdbaad45fdb75',\n",
       " 'a7542dcc3123f9cce837cd93f13c0a27',\n",
       " '4f5d8deb371a225c6cc99994bbdcea4e',\n",
       " '0f79d6c2d500c1538179ab617b99c21c',\n",
       " 'ba2a37a47b802c46d8b931247e9d04fc',\n",
       " 'f12f02fc993a6cee39d10fdf26b528de',\n",
       " '0c77493e455bd2380f899c278052fb16',\n",
       " 'c35fc589e87f909cca09c2d7334cff5f',\n",
       " '87c2116787ff620957ecc95521bc3c0f',\n",
       " '1a1dd1f3590e710d0613a768a5c928c7',\n",
       " 'bc763ec4c8db4a23ae6c074bcf20e00b',\n",
       " '681468136874819bea62f9e2e3aae357',\n",
       " 'e9e02b1633898ce8d73147ff8017776e',\n",
       " '5a1e02d983668583f95b2220fc7dc71d',\n",
       " '6e8abccc98b71d43a680d69b3f9af124',\n",
       " '0e5806abc1cf909123d584e504dd9bf9',\n",
       " '80177c3829c0b3551b5f025d4ced0c5d',\n",
       " '8b0f143a34251629cd7c0d34743d3e63',\n",
       " 'e313036329612a13d9c252f591eaff6d',\n",
       " '037504061b9fba71ef6e24c48c6df44d',\n",
       " '78c5e472a9d41b66a53ac0d2b9be7cae',\n",
       " '32482eca51f84c3b0e5729f68490fbb9',\n",
       " 'f1f9aea9e0bb9845704f9871346811aa',\n",
       " '283b3a40795ae1992f0ddd56a55c396a',\n",
       " '510b8a17456853b447d70002bf5bac19',\n",
       " '903c88d5dc12315b4f6e9d6ad6b82537',\n",
       " '67fa39eefb55953ca818c7c46d3a8369',\n",
       " 'ee3cb4950320fa16061f3f3519f8e08e',\n",
       " '2d3325a54dddefa778af88a70e7d196d',\n",
       " '478261713d5379009e2f1be1ad3deb63',\n",
       " '57cccd066af8374b532f812c280571c1',\n",
       " 'f6585a3970cea6d6b31cf28f0a7b7c55',\n",
       " '1febe89c017446eadebd0fce9a68b537',\n",
       " 'e3431a477f2320c8f49cce14add89e41',\n",
       " '3c685ed0f92e30f6ffeb5cea7cef5994',\n",
       " 'badbaf5d20db12b65b518ca473bfd12e',\n",
       " '9818479424ae4919526b658917dd6b1b',\n",
       " '28c34a837397ac08f276bfac99af6daf',\n",
       " '99ecaa4a61fc527057721723247a099b',\n",
       " 'b25d89f0b0cfe730c74db9e616b95522',\n",
       " '2e0132178e80af8c343a19317589e2fe',\n",
       " '345308e335f09ee04152c18426ad9a91',\n",
       " '2d346d8348eaadb0b8951b85f1024ec2',\n",
       " '028dc05d52d1dd336952a437f2852a0a',\n",
       " '50a2d366ac2a7467c3a7aea06cb1a676',\n",
       " '1001232743e59b621733775979b08c76',\n",
       " '34a48086263adb0c3245ec2bbb925809',\n",
       " '453e291d3376b4563d711e4c2208cd0a',\n",
       " '1496bd10b5eb474af7b764aed67309ba',\n",
       " 'a923bffcafaa9baa5f639e3911c18998',\n",
       " '8d46a2e2abae5735ae3334c0b0fe8c34',\n",
       " 'ef9853b01c42ddaeaad2b6261652f13e',\n",
       " '68f5d0cf51594a0eea7f8d19447d4d61',\n",
       " 'b99ca5db00eca6566d106abce9cba70c',\n",
       " 'a1623edb50042b97567bc9662436c264',\n",
       " 'f7f92dfc7598f985d1a7bc34fa9cadb7',\n",
       " '9dc4c474c8f4f01ec503bdcd3043e10a',\n",
       " '481683ac49436653f9185487ada8d978',\n",
       " 'cd0caa41fe8b3cfb5d80601d1065e597',\n",
       " 'dd283d0ff1afced1fa9c86e26269c003',\n",
       " 'e52c5685f6ebafcd377918e583486cb8',\n",
       " 'f6dc7b75bcaed70894cf4b1aa4c9e874',\n",
       " '59273487fefd0612a56959315cc476a1',\n",
       " 'e3a26222873878047740a3d40ce041ee',\n",
       " 'a96bea30c0bb515012eaae00385a0489',\n",
       " '09f734438a9b2f3cf78c72eef5c45b30',\n",
       " 'd55f48bd044aaa65375a07b6c02b34af',\n",
       " 'fa3d7248f7b7e1f10eca31601e81623f',\n",
       " 'fd2c0fd3dccaa4eb53ac8cae0a366969',\n",
       " '445d5d7f60a018ce7be8c09b2af9012d',\n",
       " '1a9dc3df5b76c7c4968530cdc05df1ec',\n",
       " '1c493cc3f6240272c5ec8fd043b2fed1',\n",
       " '3a0efc666f3a9b2e57c83cc3349ed2aa',\n",
       " 'a2fb69954b14fe15857b0f54515fc745',\n",
       " '3f92431272720b409a74cec554e2573f',\n",
       " '09f37474deb25ad463c1d17e29054785',\n",
       " '9c5229cbfdd9234f73a514b0a2f0ad4b',\n",
       " '35a4aa4ea0515187d2859ff6f85f9e98',\n",
       " 'e03c2b754bce667277ce38e552bd81c9',\n",
       " '6ae06c0101d0cfa56d4ca5c6aaa7750b',\n",
       " '46a3684a20288bee24955dfd822422fd',\n",
       " 'aa6fa0228a86251c04d6a74b7bcf1b12',\n",
       " '5568eb519a51d50f5b2ac52321a6efdd',\n",
       " 'e46178b5e2098fb3dafa4040c620ece4',\n",
       " 'b9ceb1379fcb9b80a93aacc77b9829ab',\n",
       " 'fa94f78d603d5ce74685dac244be904a',\n",
       " '9336705a0567f81bfbf9dcabfc4acf49',\n",
       " '13a2f4b3f904a0893997c4fc8f2ec7d5',\n",
       " 'ac6110478f6edbee89ae89481e94b275',\n",
       " 'e1b7c9220455568017e53ed7f49dea90',\n",
       " 'd3e23bbcfec0c78ec75c14122e7b7ec0',\n",
       " '99c859ed54c280bb910ae90ec68c228d',\n",
       " 'b1a8dc23435d6fea4a7847fcf02f9374',\n",
       " '55871a7a0ec1e0958ce44dd101d48be7',\n",
       " '522ba29396cc5b28294738ff91bbce1d',\n",
       " '78d8d01ea0cec064b6ad7c9b283eff55',\n",
       " '830a3227ef20baac63414e821f96f740',\n",
       " '6dd5fc9704c89ebdc01692c44c30da14',\n",
       " 'cde5025e8daabf4a99d549a6d76442f3',\n",
       " '5e397c08480a57e65d45fdc3aa18399c',\n",
       " '4d9f14a6dab9f3df7a12bf708cb4aedc',\n",
       " '9539ca1c39d9b6ff86f427ccbb0966c9',\n",
       " '17dc4e9664af18df95c412fd180201ab',\n",
       " '2f0a9b15f067539455c1a5548a114f78',\n",
       " 'f07384ef90c301fac9bf8fdc24cb88e8',\n",
       " '465c28b0dd4df27225df502c010675c6',\n",
       " '3fa1e5427fd312f27072d99cb14a63d3',\n",
       " 'caa1847f0e0917d784836c1ef7799d53',\n",
       " '7e61d1d767697f88ab5c32e9074d5196',\n",
       " '41785d75132693f972b4f95b0f4e5e95',\n",
       " '4313f4ba54009133d60474a50f5286ac',\n",
       " 'ac5d45906b56238e99d3f46ac94b35fc',\n",
       " '574e38e823dca53296ee4676b3de106c',\n",
       " '8982520da76f908b20b9f66c07ccc1e5',\n",
       " 'a1dcf957066abe4334f9706a224ba3e2',\n",
       " 'f8e44af1b7d155545fc2a928d65a5e55',\n",
       " 'abfa36e4517733d5fe37f639328a736c',\n",
       " '855256cd7062aaf319512b1648249481',\n",
       " '6cff031b8d7dd8c2cf34364ad1ee6c1a',\n",
       " '8d14e4160147a34111189383ecae42ec',\n",
       " '1307e25950ec553c3d02121252e6a80f',\n",
       " '9f2a22b244a146290d6b6671f909c04c',\n",
       " '87fab5372e284fdfb9c1e7cd659f7779',\n",
       " 'd172dc93c49f96c58c22a56724aaf1aa',\n",
       " 'e005bc3ecd718b268588742a9e86d6f8',\n",
       " '8b6b71ad7870d27f593a16905a42445f',\n",
       " '071adc8288cc111233b74980684c3552',\n",
       " '7756a308dbba65d82a3cf91700b02f09',\n",
       " 'c560455590a29b83e0c615c911e0e5e5',\n",
       " '45b722a9c968f995fcc13d1e59cbcc88',\n",
       " 'f6fcdf840d82229dee867cc75a7dd721',\n",
       " 'fb3da9cc05a5f302d9d3811c954950e7',\n",
       " 'e920b4b7fadf9463723ecd4e5755c485',\n",
       " 'b083e93e44742431259b7bf6f4df2000',\n",
       " 'a8c2db370b41d0dec801656b9c3d0014',\n",
       " '92830b819eb02be8d93a9e8e8b5ae090',\n",
       " '4758f0c0f3fbcc8dee2d2c898b4c40f5',\n",
       " 'c5d578a16412cb41d85b22c3c79f7d25',\n",
       " 'c16bffeed45057312c510c1a5547bdd1',\n",
       " '3c5c2cd450fb2d359845fb9c0d660bb0',\n",
       " '22bc9ce13212880e57eb842bd19375d6',\n",
       " '8aeccaf12d3173a0c09f873be67be5a5',\n",
       " '60b7d512af5868f8f22923b4d70a4f3e',\n",
       " 'e6726e27fec3e06f2a768e015ec1f7c0',\n",
       " '6f362845996a98fdde62e6399fe1d097',\n",
       " 'ab9b00885d5960b51efd3aa59cb95269',\n",
       " 'eefb2c8c791cf40c6a5ca8b131d475f4',\n",
       " '1b22bd5100d6a2d9f0f826fce3222d4f',\n",
       " '2e5002e01c53488e4f40c4a68b3cd4b6',\n",
       " 'c33ea46fa0f0ccbf4cfffeb3a849789e',\n",
       " 'de4dc93bcd5dd4eb08fdec474455de0c',\n",
       " '0c514de56dcdc9d3b7b71173361a5b7b',\n",
       " '9e5184539ff152c09de06033c1e4260e',\n",
       " 'ee9791a15a2cc8e34ee8fc52dcb4ddb5',\n",
       " 'e84a9aadb35ccba696e45cc79779525e',\n",
       " 'dff1e0c2f5fb98cdf3f2d3aa89696222',\n",
       " '7e26b6fec976755158177577cf4c9183',\n",
       " '0b373388b189bee3ef6e320b841264dd',\n",
       " '9f8dfe7b06ca41af4fa89f7deaf3b050',\n",
       " '4ecad8aefbc2ce6931baaee0cda6955b',\n",
       " '45536830c0c451c9397571656c5f36ce',\n",
       " '68fddc3487a506126daa6342d3d31fd5',\n",
       " '0d2a6f5c754e82c42ed5f8117d13fa52',\n",
       " '4baed07e2381293cb782253baea6056b',\n",
       " '0fccc3f87b6c20d6ccc7e0df535eca8f',\n",
       " '66ac9acd0174425c2ad47448fc55ca45',\n",
       " '4a139d2a586bba55c6389985432780ea',\n",
       " '82d263e53a729615b6dae1d57c67573e',\n",
       " 'eb341a42f1e27d3af125fa1bcba8c799',\n",
       " 'fd3bf77d72ce527f9c9cfa57f6cdea8a',\n",
       " 'ef3e70ea593ce6a058c14ee6037bcf80',\n",
       " '68f4d04f60368beedcf85796393f45c9',\n",
       " '6272bd8c72545aa42d1abb9045bd7a97',\n",
       " '6ddb61c8bad32ffc60da3a6c96e85b49',\n",
       " 'd50f85e2414dd545345934cdef5c8dce',\n",
       " 'a1fd7998cce64a8747a682bf524951bf',\n",
       " 'ec0cc0db2e434f2a0bab41cb95d62a4a',\n",
       " '0bec02fc4922292847f64a9065d7b32d',\n",
       " 'f5440c7daa9981ec029c955999443de8',\n",
       " '23d7454cc9f8a4a5e26b4ddec0382eb9',\n",
       " '9f7ee4a75044aace7725bf008d651003',\n",
       " '148fe91d0372058647fd126db36714d5',\n",
       " 'a576f47b644facaa1aa60db9c41d9db1',\n",
       " 'c25541fd4c6bf6f78e3f364d279b63cf',\n",
       " '4f323a5ac8121588c5ddad88eef0f0e5',\n",
       " '5ea3b6705b0f21ed9cbe1899677a2ae9',\n",
       " 'f9548e3d01a0ef3cf2fdcbc240884c03',\n",
       " 'f1a956dea62abf0e11ff2a61b9aa192e',\n",
       " '883690557c692e6af48677011c657dfc',\n",
       " '30515517119578d33d884c8bba103079',\n",
       " '087235917714cd15b20951ad00a39cf7',\n",
       " '134b29504e8774c3d38102d6ee81cdb9',\n",
       " 'a93b3dcce91f31062dc01695f43cc8ba',\n",
       " 'd7f13cf51705adfe64e2b31c332409ca',\n",
       " 'e3a820d374f2edeaaa719da212253d51',\n",
       " 'e0c370969267c34db431130a881e72f4',\n",
       " 'd5cab685b579ccaf021401bf2589b5f0',\n",
       " '1215adafbc41adff149c6ab127598917',\n",
       " 'c3206e3a627cf34dfb2b013847b924c2',\n",
       " '45e58b0ddd95fcf40dd592e293e301aa',\n",
       " '22cfe834f8eb30a0d2af73cfa957e555',\n",
       " 'c4536651e1072dd41bc9366cf256d70e',\n",
       " '275d8bdfde4df9a23274d06788c7ec38',\n",
       " 'd067d3241f1340c9c54c1b78a5a780cf',\n",
       " '51d0d7b3a0f1769117ed6e3d64445f33',\n",
       " '0ec1b37c75064128cfa8381a8d7e5d72',\n",
       " 'e8112c562edb4b184ba3c05b3708cb95',\n",
       " 'bcf3848a8a21197cad6bb589b23b777c',\n",
       " '8e74810e59ad22578ca909985e484cf2',\n",
       " 'c02993d3eb182a5a9f3ceb0fc47fb0fa',\n",
       " '4cb0031225cf215b6566c3bcc004016c',\n",
       " '8017c7b5f7d8928a7465e6d41417c21a',\n",
       " '890d0c582d769f001e95fa6f38252daf',\n",
       " '3b5b3a2cc026cf58cc19bfa66b4873e3',\n",
       " '94f6b16d7289691642d1a611c4f1997f',\n",
       " '0c63ad44d6bc717dcf0c965d1284d503',\n",
       " 'ad43231f9614e857768154736232fc34',\n",
       " 'c0910c1a35e06c172ab6403b20a6b9f0',\n",
       " '5ba5c62518b86d2f6ac2f6f31e38c23f',\n",
       " '0c74f7e82d446bd1cde9628fd6fa94e3',\n",
       " '6ae973c0f3341e2eb19e08dfe4ee42fc',\n",
       " 'd59534f97e8598b8673e7793c08b1694',\n",
       " '57ec54de3a7df9a08cbec3834fdf4105',\n",
       " '99c79f407e7506bd87425fd24b8c9ec3',\n",
       " '8743d3eac43f246d21385f3070901b05',\n",
       " '5d17ccf4c67a1d2acf6841a892812f15',\n",
       " 'f308d9aa90c2f978c32978a71d039574',\n",
       " '704a213fd13aa5e59c4fcf5c84723e57',\n",
       " '1467d804990bad99d1c553ca5a007ecc',\n",
       " 'c176131dc05b4c90d783679433a79244',\n",
       " 'f4df16a55805e69f7013d79eca0c46a7',\n",
       " '14be84455c24ef064605eccd0c80ff48',\n",
       " 'c4e165cd0d565c8cedb6c8c0a59746c3',\n",
       " 'b57e87397f4281b1d3a918c7bd2c9e3a',\n",
       " '10bf7780fc6540d6f79eae2aa2e5d4b9',\n",
       " 'd2d214b96cfa479a5cfc795a8760c7c1',\n",
       " 'b245cf055b22a9d837cc4f5c97b63a8c',\n",
       " '3659fd7b7207e8a9c2595c04aef3587e',\n",
       " 'cf4938eb30ad64f2e955ad04e90520bb',\n",
       " '2362d93816e6dff7db5f3de85b660777',\n",
       " '7d86c5e09004e3016838f192ecaac540',\n",
       " '173f4e37ce1592690c9bb78b99eafb1c',\n",
       " 'c5c8a6e5c44eda5ec0bbfb53e2c81012',\n",
       " 'bbb2c6d4f203c71ba63d6ce8048d1ebc',\n",
       " '81adb00db7e7b3034900a1f95a4dc257',\n",
       " 'c9041cae8251897681f77dce051e8660',\n",
       " 'de86ead27d995c8f57c1d8f56b425358',\n",
       " '389758c9e3aad00e774d581150f372db',\n",
       " '003a91841da04a5a31f808fb5c21538a',\n",
       " '01d20d68bce47bec01d816b893630f18',\n",
       " '30dbd061bed3964c478e64269bb5870e',\n",
       " 'd9b76603ea5a351942248655981b90b0',\n",
       " 'c17fbe7ddf1c9b5993bb144c00d5136b',\n",
       " 'a1d31796040eff1d8223f486caa01ab8',\n",
       " '111b574b0f3bed1be6764860d7ea7adf',\n",
       " 'ed572cbfb5afc2e989918b03c70734af',\n",
       " '69ab9dae3fcb1bcb79683b95e4836252',\n",
       " 'a954a0cc5ddb665162f367e46e4c5a39',\n",
       " 'c9e75185a6b9a2f496537fc05cefd04b',\n",
       " 'e0dbde719b3f28fa7ef3e429b44c6d41',\n",
       " '32f0241a4fbafab0850770a4832678c2',\n",
       " 'd7b172212f491714565c0ed41b95d0fd',\n",
       " '51fc45502634ba97726929d243438c63',\n",
       " '78e1c4d579f35d13b3b38053622061ab',\n",
       " '8e8e466ee8644a88c48ff4decef87949',\n",
       " 'b8b2b97c2b6b1cb436a57dcefca7f78e',\n",
       " '15adbda27f36bcbb0cd4cec566db82a9',\n",
       " '545063a5e1917a0ddb4f48b99b40142f',\n",
       " '9716b5d2e13a28be3dc836134153720c',\n",
       " '12d5dea1bb9e690b0a7d2b541b3d2145',\n",
       " '065762b2ae186afcf91bbedc81142ef4',\n",
       " '80ba4043de65596c18e5c0c1d5e3a29d',\n",
       " '876d25db23f2f8ed17646186a30bb263',\n",
       " 'b32c022c602405cbdd8c23ab0a4773d6',\n",
       " '2f45cafe638848ee98e0b998d9aeb888',\n",
       " 'af1092d14c91de3eddbcb650f631c501',\n",
       " '89312c1f707db54b1efe684669e62fe9',\n",
       " 'cdb645176929461ef9742fc6c19d9dcd',\n",
       " '3ec245a98fd9d114e1d6d6caaf9c7813',\n",
       " '87fe5740deb9d4ef755cc157ff710cef',\n",
       " '3a6161c02efaf0c49fe4dc6ffd76c838',\n",
       " '02146992e1884bf87012fd0d5d05cdb9',\n",
       " '3cf6ba5c92566d079b14948153e756da',\n",
       " '4fdaffad21b20c5271266d8fa3e9487a',\n",
       " '369765a1bd016016ceec70314dacc204',\n",
       " '003d4dd6bd61221ebc0bfb9350db333f',\n",
       " 'c61309f50b0ae9b10f470cc11546a864',\n",
       " '85d99c61b0182b04d4c420e95c2cc48d',\n",
       " '839f825f343d05ed5eaa0ddbc5455871',\n",
       " 'f96cc0b4bfe5c400bb8e198728e301d2',\n",
       " '4aa8963308d58ec77d216b3f4c60a9de',\n",
       " '7a037cc442f5e4795192c1631d5af535',\n",
       " 'a3d3ad2b05d3291a3353f6d2fa2f7245',\n",
       " '0f914d1f044c187e6a5be7e996d877a9',\n",
       " '9cf389313859e869bbf864ae518e5e8d',\n",
       " '5554bf43ed8256dff3a716d9811a7afb',\n",
       " 'd19246d956e226f8a41ad8848482c5fe',\n",
       " 'c415d5066e843809c2e74381c391cb7e',\n",
       " 'f10f258b5e1a56f0449b1d344f9dc8be',\n",
       " '3bb7fa03be7da5a086cf9a234cd3a025',\n",
       " 'a8d65bc90e175baee47ae5b445ba2476',\n",
       " '7f68f25905c0dea4a017fb78e1c61b21',\n",
       " '6685582686a1bb08c0d57f5dbc1f53fd',\n",
       " '283d925bbde649adc0a7c703049ee7d5',\n",
       " '741f6260e0f75b64a72e9a905003c29d',\n",
       " '8e45b3d90a0b2ff168f2851d2b0efad7',\n",
       " '61a5c5faf9be923b525a4a57197a767a',\n",
       " 'fbee536cc1352614dda57bcf0786f387',\n",
       " 'b55cae845662dfb081970488f46909fb',\n",
       " '8cbc1d87857d1bc3eac98e09b7e10a3d',\n",
       " '275322852b2d7d5cff8a19cc5e72ff4e',\n",
       " '4201ba655b6456240e68e7122614e6a5',\n",
       " '2a837ababa0cb124818a3b4852244711',\n",
       " 'dfece00ee9036e6ed9c7ea770987e1a1',\n",
       " '72aa3eb389001c2e3ceeb58e7b48dfe9',\n",
       " 'e59296cf7a004822a4cce233bcb221b3',\n",
       " '914d7647a5387102dc4dba393cd092d9',\n",
       " 'e8305f87e3ba6f187920804740068790',\n",
       " '612aa3391b33578ba22ef3d3f3ef9d90',\n",
       " '54978762e0eca14cc62c4196d3e239ee',\n",
       " '9d4c88beba0b2d533f205f1b615e6c7e',\n",
       " 'f539f2dcee1a03c730a2a5a9e2298fb7',\n",
       " 'cdddbff5034599ef91bdeb764280916c',\n",
       " 'ae026ae626a0a236801d36f52b7ab8e4',\n",
       " '9a8507fd23867a02a98fd29bbca819bd',\n",
       " '0c46c60ae2ef49657bc843707162ba6e',\n",
       " '4e91e7b1e5dedb02b7b01daba1fea361',\n",
       " '2577c90f6ee46adf9d3f7c16ba8db9c3',\n",
       " '2033421adffe1e569704229c139c0dab',\n",
       " '8b2680234d9dd4ddcf5ba243d96a8a2c',\n",
       " '12093daa08f6c758c689b8ba4dec2a93',\n",
       " 'f0aa8148ce45747389ea072aaaae57ae',\n",
       " 'ed9a9b74e2c08c506767af2471d9c1ca',\n",
       " '46f767c8c76697a603e52b56a33f86a0',\n",
       " '6966c2b9fa1ae59141ab221b32d878cf',\n",
       " '8cd79170b9a39ff09db077594b8ef415',\n",
       " '73a8c10ff66347ba7187a1eb52e0e8f2',\n",
       " 'abc872001f80c10758f4b425c8f9ab03',\n",
       " '46f1c6a77e6de339e042fbb6334ae713',\n",
       " 'c137649e6a6e22b208cdf785a004603b',\n",
       " '9b830287af42617f01b6c0c1c6730766',\n",
       " 'b276c39d60d16cdcca065940ed55eeb8',\n",
       " '6fa92edb736bd9191d197ab8eab2e535',\n",
       " 'e1f9d5200c94b8f4c5032cc4753136b2',\n",
       " 'ea2dae3e447871d311e907278a85cabf',\n",
       " '7f2957d2c7e3d8aaa8a74f8191b22a33',\n",
       " '78ab08388dcb0af78e8692e9e482952a',\n",
       " 'c64c12966d164cd0bcc6bfef4ca95500',\n",
       " 'a737733c443a5aab85263c0a8ad94e2b',\n",
       " '6decfe197397c727416711b6edf9b691',\n",
       " 'eebbd95489903a9882da3fc42426d001',\n",
       " '1b4e035a6233cc3d80ececed44532129',\n",
       " '830484a95f45f28e37b68bd440fd9357',\n",
       " '14cff64d674f558dc47ee5e817b7f671',\n",
       " 'f1fe16e06f2ba5e1a9662cb471fe73c1',\n",
       " 'b339154c789a5103d16f3cde70f20fb9',\n",
       " '83300a2310d4bcca4194a54e5c276af0',\n",
       " '1dfa9e0e91f817fbd98ae93fc20d6255',\n",
       " '90a1a09e8b9543d69f9a90982ef5a789',\n",
       " 'ba4a1e8412d6376304ae051d32184ce6',\n",
       " 'b30b101c780f77ea4259357bc22ff1a8',\n",
       " '06c686f7bd2d084201d635dcbba1baa7',\n",
       " '8845e2a5497b43f86bb2ff4b8a0abd97',\n",
       " 'b2443b53c6ecff257bce39ea43e355b5',\n",
       " 'f317f98d0b35871e4363580090ed2e03',\n",
       " 'cb91772271b72c237c42f64fb6d2e84e',\n",
       " '01c816336959ee9d94b23b37b0f71f21',\n",
       " 'fc115a1b3e831ab2e51576d7e9a8b630',\n",
       " '4a3cd784b891733e6f807e69a592e13f',\n",
       " 'c233968ed8653578230b2556054cd675',\n",
       " 'e3f0542a702cef736b649df9a3a98e8c',\n",
       " 'f2196dcfec3027846cdd304448f28fa5',\n",
       " 'be8584d0393a178557fbcf29e770f690',\n",
       " 'f334ec537ee5bdf988d09fdbfeaac2c7',\n",
       " '0355ee153bd16cfb69018d1ff000c419',\n",
       " 'a880877c39bb56738db55b44336087c8',\n",
       " 'b887c69ecbc724b367ec91bda0b3d34e',\n",
       " '7d7bc454fd3133539074f065037ef04d',\n",
       " 'd52d28b99ef14ecc6e55b92170b883e9',\n",
       " 'aa7ce2c5b9e3fba65a6502469a9e7d32',\n",
       " '547f7a62cea4bd7b702c5175b6ce5327',\n",
       " 'b3c3c28fdfab12058aab2e7f8a37896a',\n",
       " '4867b2a030243b9079a0bf08db01cb03',\n",
       " '6ee803a651ec9f2bb7c7504dff596207',\n",
       " 'f70c37deb169c2ce0ef9b35a45d9324c',\n",
       " '3e0ffdd220288ab384e08bcb9b46b843',\n",
       " '89d67babd435cc76b1366455fd89044f',\n",
       " '9732d77870c47958a27d32126266ef89',\n",
       " '68a362123aff27d79dbc5284a948030c',\n",
       " '90fed309bf399bb521519199a45f09b4',\n",
       " '96c62d8799651597247be49bf790d585',\n",
       " 'c93c708e9176b80c362a02eecb638821',\n",
       " '53395078c052e6dcc08cbf8a227ba147',\n",
       " '9aa1c0cd406cb058969711ffef861c17',\n",
       " '322b308222ea34f31e3c1191ecdc663b',\n",
       " '8fcd382bc295b5af64cd8706d219de89',\n",
       " 'c5e101b81e1f457cb9e4c568df7f9b9d',\n",
       " 'b0ee38976e71dfbfba705974713ee612',\n",
       " '9591a44ee456707bdc1def93f0007c35',\n",
       " '1bf018aea8d9b1546d3d3461b37d215e',\n",
       " 'bf76a6ee6ce516c2222395ec55e90917',\n",
       " '1225755051562b0885a33b3f0fb25e43',\n",
       " '611dad205c637ac04eb23386dc32601c',\n",
       " 'caee5cd6d6691f96111daa9a32dd6431',\n",
       " 'c411cf81bd605e263ea8da3b35d05dac',\n",
       " '66dc57a3320d9abd25eaf8b74c07c7bb',\n",
       " '5a7d90776e03f8441483198c25767fa6',\n",
       " 'ba4f6a25420d095d6a28f15f721c4b5d',\n",
       " '7ffcd16547f539aac56a0a1520b13a06',\n",
       " '73037573234229d6a23f57873f966dce',\n",
       " 'b36b56a7df47298eb36c6def50c76ca1',\n",
       " 'fb61630580f124fe00a2b7816cd483a1',\n",
       " '4c6a0e8134aee15172b8e37dd7972680',\n",
       " '7343399845610a863e3153fb6bc1f5d6',\n",
       " 'd7d09ab8218cfe95d21ff22df45e75ff',\n",
       " 'ef9c72d529806d9ba341476d4c159838',\n",
       " '7a1b601b146af835cef2bc71ea599c65',\n",
       " '106b34c5c7cef8e43594524c9fd1c999',\n",
       " '2ac5f9c41e6b9a004fc0cecf6c3083be',\n",
       " 'ee83e1603d89100f6546368fe275aaa5',\n",
       " '8426c787d63aaf8a8a5e14c110525bb2',\n",
       " '208025030fedd3a2e858890eff150f36',\n",
       " '105639feabdeb9be2a7a1b1db7ea7625',\n",
       " '897ba1f3a78695935baabe54f649e95c',\n",
       " '8a510d59fecf6f0f07ae5d6b5b83190a',\n",
       " '49baf3efa08649c094e80012393aaac4',\n",
       " '78085d10a2665075cba3b247a151f82e',\n",
       " '070f9f27db2db32b456cfc595f29c03a',\n",
       " 'd2acc357f4126d54cbfb4ff7ed254616',\n",
       " '6a6a592dab4286783baf1ce2dbf2e8ff',\n",
       " '0b2cba7e97daa7f11ededc2ec7d67045',\n",
       " '370d84e1455d9c56f0163c64c35b3189',\n",
       " 'a21de143bd5da5e90b185bdd8811a535',\n",
       " '35e9d8f8ce16d61751bbe6d24fee0da3',\n",
       " 'a2b8cad572d92f6e24b69495e3b961a8',\n",
       " '3424fa4daa40e0bb944a1f579ca895ca',\n",
       " '3c2dd628b93ce49260c21b8aa9d8fba5',\n",
       " 'ac32c2c755e496c5e7bc1949b78d36c9',\n",
       " '0186f4811c9d089707d9dc7460160d88',\n",
       " '37eee15d48b6ed3bad02ccd749c2409c',\n",
       " 'cb7b640bd2d43968c3bddbfaa66eb4b7',\n",
       " '26bc992079d504e172e50fb565915bf7',\n",
       " '77545268b9c0cec2fd73b7cb9e03d66b',\n",
       " 'fac68c117a18834ee2e9892083d82942',\n",
       " 'c3c632f5b9ce3460a6fc15544d6f5582',\n",
       " '6cbd13aad5efec0454b8168ec8588cb6',\n",
       " '418e1cef9d164228667371028ca7071c',\n",
       " '89d137c7fb29df7596e6824181b7d5c9',\n",
       " '32b84dbd24b4c2db47ba783d3806b6d0',\n",
       " '7d61619d2dfb5efc0f22a4d48775698d',\n",
       " 'c5a693a66e80be6c0326c76a4b748a64',\n",
       " '21e92b285b43c4585bdff04f758bf883',\n",
       " 'd3c5d7ceeb968c58ab20710cae53e022',\n",
       " 'b5af75ebc10b07f27f4d4c50e9f1cc2e',\n",
       " '17186646a2ce2b1697b6d3cc8d32344b',\n",
       " '6d63e2fdf3eda186a532f73e86bb29c9',\n",
       " 'f88e932503d0e42467edb710bb8b9c46',\n",
       " '48173ebea068ee1f93d8fce98dce8e00',\n",
       " '3db32216102af6f7106c9124bf71d097',\n",
       " ...]"
      ]
     },
     "execution_count": 10,
     "metadata": {},
     "output_type": "execute_result"
    }
   ],
   "source": [
    "image_mask_present"
   ]
  },
  {
   "cell_type": "code",
   "execution_count": 11,
   "metadata": {},
   "outputs": [],
   "source": [
    "df_train = df_train.loc[df_train.image_id.isin(image_mask_present)]"
   ]
  },
  {
   "cell_type": "code",
   "execution_count": 12,
   "metadata": {},
   "outputs": [
    {
     "data": {
      "text/plain": [
       "(10516, 4)"
      ]
     },
     "execution_count": 12,
     "metadata": {},
     "output_type": "execute_result"
    }
   ],
   "source": [
    "df_train.shape"
   ]
  },
  {
   "cell_type": "code",
   "execution_count": 13,
   "metadata": {},
   "outputs": [],
   "source": [
    "df_train.reset_index(inplace=True)"
   ]
  },
  {
   "cell_type": "code",
   "execution_count": 14,
   "metadata": {},
   "outputs": [
    {
     "name": "stdout",
     "output_type": "stream",
     "text": [
      "../data/masks\n"
     ]
    }
   ],
   "source": [
    "\n",
    "\n",
    "kernel_type = '1a'\n",
    "kernel_type_base = 'how_to_train_effnet_b0_to_get_LB_0.86'\n",
    "enet_type = 'efficientnet-b0'\n",
    "fold = 0\n",
    "tile_size = 256\n",
    "image_size = 256\n",
    "n_tiles = 36\n",
    "batch_size = 2\n",
    "num_workers = 4\n",
    "out_dim = 5\n",
    "init_lr = 3e-4\n",
    "warmup_factor = 10\n",
    "\n",
    "warmup_epo = 1\n",
    "n_epochs = 1 if DEBUG else 30\n",
    "df_train = df_train.sample(100).reset_index(drop=True) if DEBUG else df_train\n",
    "\n",
    "device = torch.device('cuda')\n",
    "\n",
    "print(image_folder)"
   ]
  },
  {
   "cell_type": "code",
   "execution_count": 15,
   "metadata": {},
   "outputs": [
    {
     "data": {
      "text/html": [
       "<div>\n",
       "<style scoped>\n",
       "    .dataframe tbody tr th:only-of-type {\n",
       "        vertical-align: middle;\n",
       "    }\n",
       "\n",
       "    .dataframe tbody tr th {\n",
       "        vertical-align: top;\n",
       "    }\n",
       "\n",
       "    .dataframe thead th {\n",
       "        text-align: right;\n",
       "    }\n",
       "</style>\n",
       "<table border=\"1\" class=\"dataframe\">\n",
       "  <thead>\n",
       "    <tr style=\"text-align: right;\">\n",
       "      <th></th>\n",
       "      <th>index</th>\n",
       "      <th>image_id</th>\n",
       "      <th>data_provider</th>\n",
       "      <th>isup_grade</th>\n",
       "      <th>gleason_score</th>\n",
       "      <th>fold</th>\n",
       "    </tr>\n",
       "  </thead>\n",
       "  <tbody>\n",
       "    <tr>\n",
       "      <th>0</th>\n",
       "      <td>0</td>\n",
       "      <td>0005f7aaab2800f6170c399693a96917</td>\n",
       "      <td>karolinska</td>\n",
       "      <td>0</td>\n",
       "      <td>0+0</td>\n",
       "      <td>3</td>\n",
       "    </tr>\n",
       "    <tr>\n",
       "      <th>1</th>\n",
       "      <td>1</td>\n",
       "      <td>000920ad0b612851f8e01bcc880d9b3d</td>\n",
       "      <td>karolinska</td>\n",
       "      <td>0</td>\n",
       "      <td>0+0</td>\n",
       "      <td>4</td>\n",
       "    </tr>\n",
       "    <tr>\n",
       "      <th>2</th>\n",
       "      <td>2</td>\n",
       "      <td>0018ae58b01bdadc8e347995b69f99aa</td>\n",
       "      <td>radboud</td>\n",
       "      <td>4</td>\n",
       "      <td>4+4</td>\n",
       "      <td>0</td>\n",
       "    </tr>\n",
       "    <tr>\n",
       "      <th>3</th>\n",
       "      <td>3</td>\n",
       "      <td>001c62abd11fa4b57bf7a6c603a11bb9</td>\n",
       "      <td>karolinska</td>\n",
       "      <td>4</td>\n",
       "      <td>4+4</td>\n",
       "      <td>1</td>\n",
       "    </tr>\n",
       "    <tr>\n",
       "      <th>4</th>\n",
       "      <td>4</td>\n",
       "      <td>001d865e65ef5d2579c190a0e0350d8f</td>\n",
       "      <td>karolinska</td>\n",
       "      <td>0</td>\n",
       "      <td>0+0</td>\n",
       "      <td>2</td>\n",
       "    </tr>\n",
       "  </tbody>\n",
       "</table>\n",
       "</div>"
      ],
      "text/plain": [
       "   index                          image_id data_provider  isup_grade  \\\n",
       "0      0  0005f7aaab2800f6170c399693a96917    karolinska           0   \n",
       "1      1  000920ad0b612851f8e01bcc880d9b3d    karolinska           0   \n",
       "2      2  0018ae58b01bdadc8e347995b69f99aa       radboud           4   \n",
       "3      3  001c62abd11fa4b57bf7a6c603a11bb9    karolinska           4   \n",
       "4      4  001d865e65ef5d2579c190a0e0350d8f    karolinska           0   \n",
       "\n",
       "  gleason_score  fold  \n",
       "0           0+0     3  \n",
       "1           0+0     4  \n",
       "2           4+4     0  \n",
       "3           4+4     1  \n",
       "4           0+0     2  "
      ]
     },
     "execution_count": 15,
     "metadata": {},
     "output_type": "execute_result"
    }
   ],
   "source": [
    "skf = StratifiedKFold(5, shuffle=True, random_state=42)\n",
    "df_train['fold'] = -1\n",
    "for i, (train_idx, valid_idx) in enumerate(skf.split(df_train, df_train['isup_grade'])):\n",
    "    df_train.loc[valid_idx, 'fold'] = i\n",
    "df_train.head()"
   ]
  },
  {
   "cell_type": "code",
   "execution_count": 16,
   "metadata": {},
   "outputs": [],
   "source": [
    "pretrained_model = {\n",
    "    'efficientnet-b0': '/home/watts/.torch/models/efficientnet-b0-08094119.pth'\n",
    "}"
   ]
  },
  {
   "cell_type": "code",
   "execution_count": 17,
   "metadata": {},
   "outputs": [],
   "source": [
    "class enetv2(nn.Module):\n",
    "    def __init__(self, backbone, out_dim):\n",
    "        super(enetv2, self).__init__()\n",
    "        self.enet = enet.EfficientNet.from_name(backbone)\n",
    "        self.enet.load_state_dict(torch.load(pretrained_model[backbone]))\n",
    "\n",
    "        self.myfc = nn.Linear(self.enet._fc.in_features, out_dim)\n",
    "        self.enet._fc = nn.Identity()\n",
    "\n",
    "    def extract(self, x):\n",
    "        return self.enet(x)\n",
    "\n",
    "    def forward(self, x):\n",
    "        x = self.extract(x)\n",
    "        x = self.myfc(x)\n",
    "        return x"
   ]
  },
  {
   "cell_type": "code",
   "execution_count": 18,
   "metadata": {},
   "outputs": [],
   "source": [
    "def get_tiles(img, mode=0):\n",
    "        result = []\n",
    "        h, w, c = img.shape\n",
    "        pad_h = (tile_size - h % tile_size) % tile_size + ((tile_size * mode) // 2)\n",
    "        pad_w = (tile_size - w % tile_size) % tile_size + ((tile_size * mode) // 2)\n",
    "\n",
    "        img2 = np.pad(img,[[pad_h // 2, pad_h - pad_h // 2], [pad_w // 2,pad_w - pad_w//2], [0,0]], constant_values=255)\n",
    "        img3 = img2.reshape(\n",
    "            img2.shape[0] // tile_size,\n",
    "            tile_size,\n",
    "            img2.shape[1] // tile_size,\n",
    "            tile_size,\n",
    "            3\n",
    "        )\n",
    "\n",
    "        img3 = img3.transpose(0,2,1,3,4).reshape(-1, tile_size, tile_size,3)\n",
    "        n_tiles_with_info = (img3.reshape(img3.shape[0],-1).sum(1) < tile_size ** 2 * 3 * 255).sum()\n",
    "        if len(img3) < n_tiles:\n",
    "            img3 = np.pad(img3,[[0,n_tiles-len(img3)],[0,0],[0,0],[0,0]], constant_values=255)\n",
    "        idxs = np.argsort(img3.reshape(img3.shape[0],-1).sum(-1))[:n_tiles]\n",
    "        img3 = img3[idxs]\n",
    "        for i in range(len(img3)):\n",
    "            result.append({'img':img3[i], 'idx':i})\n",
    "        return result, n_tiles_with_info >= n_tiles\n"
   ]
  },
  {
   "cell_type": "code",
   "execution_count": 19,
   "metadata": {},
   "outputs": [],
   "source": [
    "class PANDADataset(Dataset):\n",
    "    def __init__(self,\n",
    "                 df,\n",
    "                 image_size,\n",
    "                 n_tiles=n_tiles,\n",
    "                 tile_mode=0,\n",
    "                 rand=False,\n",
    "                 transform=None,\n",
    "                ):\n",
    "\n",
    "        self.df = df.reset_index(drop=True)\n",
    "        self.image_size = image_size\n",
    "        self.n_tiles = n_tiles\n",
    "        self.tile_mode = tile_mode\n",
    "        self.rand = rand\n",
    "        self.transform = transform\n",
    "\n",
    "    def __len__(self):\n",
    "        return self.df.shape[0]\n",
    "\n",
    "    def __getitem__(self, index):\n",
    "        row = self.df.iloc[index]\n",
    "        img_id = row.image_id\n",
    "        \n",
    "        all_images = []\n",
    "#         tiff_file = os.path.join(image_folder, f'{img_id}_mask.tiff')\n",
    "#         print(tiff_file)\n",
    "        for ii in range(self.n_tiles):\n",
    "            png_file = os.path.join(image_folder, f'{img_id}_{ii}.png')\n",
    "            img = cv2.imread(png_file)\n",
    "            all_images.append(img)\n",
    "#         image = np.array(all_images)\n",
    "#         print(image.shape)\n",
    "#         image = skimage.io.MultiImage(tiff_file)[1]\n",
    "#         tiles, OK = get_tiles(image, self.tile_mode)\n",
    "\n",
    "        if self.rand:\n",
    "            idxes = np.random.choice(list(range(self.n_tiles)), self.n_tiles, replace=False)\n",
    "        else:\n",
    "            idxes = list(range(self.n_tiles))\n",
    "            \n",
    "        n_row_tiles = int(np.sqrt(self.n_tiles))\n",
    "        images = np.zeros((image_size * n_row_tiles, image_size * n_row_tiles, 3))\n",
    "        for h in range(n_row_tiles):\n",
    "            for w in range(n_row_tiles):\n",
    "                i = h * n_row_tiles + w\n",
    "    \n",
    "                if len(all_images) > idxes[i]:\n",
    "#                     this_img = tiles[idxes[i]]['img']\n",
    "                    this_img = all_images[idxes[i]]\n",
    "#                     print(this_img.shape)\n",
    "                else:\n",
    "                    this_img = np.ones((self.image_size, self.image_size, 3)).astype(np.uint8) * 255\n",
    "                this_img = 255 - this_img\n",
    "                if self.transform is not None:\n",
    "                    this_img = self.transform(image=this_img)['image']\n",
    "                h1 = h * image_size\n",
    "                w1 = w * image_size\n",
    "                images[h1:h1+image_size, w1:w1+image_size] = this_img\n",
    "\n",
    "        if self.transform is not None:\n",
    "            images = self.transform(image=images)['image']\n",
    "        images = images.astype(np.float32)\n",
    "        images /= 255\n",
    "        images = images.transpose(2, 0, 1)\n",
    "\n",
    "        label = np.zeros(5).astype(np.float32)\n",
    "        label[:row.isup_grade] = 1.\n",
    "        return torch.tensor(images), torch.tensor(label)"
   ]
  },
  {
   "cell_type": "code",
   "execution_count": 20,
   "metadata": {},
   "outputs": [],
   "source": [
    "transforms_train = albumentations.Compose([\n",
    "    albumentations.Transpose(p=0.5),\n",
    "    albumentations.VerticalFlip(p=0.5),\n",
    "    albumentations.HorizontalFlip(p=0.5),\n",
    "])\n",
    "transforms_val = albumentations.Compose([])"
   ]
  },
  {
   "cell_type": "code",
   "execution_count": 21,
   "metadata": {},
   "outputs": [],
   "source": [
    "# tiff_file = \"../data/train_images/984505f6a79b889bed5897d2135b85b1.tiff\"\n",
    "# image = skimage.io.MultiImage(tiff_file)[1]\n",
    "# tiles, OK = get_tiles(image, 0)"
   ]
  },
  {
   "cell_type": "code",
   "execution_count": 22,
   "metadata": {},
   "outputs": [],
   "source": [
    "# image.shape"
   ]
  },
  {
   "cell_type": "code",
   "execution_count": 23,
   "metadata": {},
   "outputs": [],
   "source": [
    "# image[-1]"
   ]
  },
  {
   "cell_type": "code",
   "execution_count": 24,
   "metadata": {},
   "outputs": [
    {
     "data": {
      "image/png": "[encoded data removed]",
      "text/plain": [
       "<Figure size 1440x720 with 5 Axes>"
      ]
     },
     "metadata": {
      "needs_background": "light"
     },
     "output_type": "display_data"
    },
    {
     "data": {
      "image/png": "[encoded data removed]",
      "text/plain": [
       "<Figure size 1440x720 with 5 Axes>"
      ]
     },
     "metadata": {
      "needs_background": "light"
     },
     "output_type": "display_data"
    }
   ],
   "source": [
    "dataset_show = PANDADataset(df_train, image_size, n_tiles, 0, transform=transforms_train)\n",
    "from pylab import rcParams\n",
    "rcParams['figure.figsize'] = 20,10\n",
    "for i in range(2):\n",
    "    f, axarr = plt.subplots(1,5)\n",
    "    for p in range(5):\n",
    "        idx = np.random.randint(0, len(dataset_show))\n",
    "        img, label = dataset_show[idx]\n",
    "        axarr[p].imshow(1. - img.transpose(0, 1).transpose(1,2).squeeze())\n",
    "        axarr[p].set_title(str(sum(label)))"
   ]
  },
  {
   "cell_type": "code",
   "execution_count": 25,
   "metadata": {},
   "outputs": [],
   "source": [
    "criterion = nn.BCEWithLogitsLoss()"
   ]
  },
  {
   "cell_type": "code",
   "execution_count": 26,
   "metadata": {},
   "outputs": [],
   "source": [
    "def train_epoch(loader, optimizer):\n",
    "\n",
    "    model.train()\n",
    "    train_loss = []\n",
    "    bar = tqdm(loader)\n",
    "    for (data, target) in bar:\n",
    "        \n",
    "        data, target = data.to(device), target.to(device)\n",
    "        loss_func = criterion\n",
    "        optimizer.zero_grad()\n",
    "        logits = model(data)\n",
    "        loss = loss_func(logits, target)\n",
    "        loss.backward()\n",
    "        optimizer.step()\n",
    "\n",
    "        loss_np = loss.detach().cpu().numpy()\n",
    "        train_loss.append(loss_np)\n",
    "        smooth_loss = sum(train_loss[-100:]) / min(len(train_loss), 100)\n",
    "        bar.set_description('loss: %.5f, smth: %.5f' % (loss_np, smooth_loss))\n",
    "    return train_loss"
   ]
  },
  {
   "cell_type": "code",
   "execution_count": 27,
   "metadata": {},
   "outputs": [],
   "source": [
    "def val_epoch(loader, get_output=False):\n",
    "\n",
    "    model.eval()\n",
    "    val_loss = []\n",
    "    LOGITS = []\n",
    "    PREDS = []\n",
    "    TARGETS = []\n",
    "\n",
    "    with torch.no_grad():\n",
    "        for (data, target) in tqdm(loader):\n",
    "            data, target = data.to(device), target.to(device)\n",
    "            logits = model(data)\n",
    "\n",
    "            loss = criterion(logits, target)\n",
    "\n",
    "            pred = logits.sigmoid().sum(1).detach().round()\n",
    "            LOGITS.append(logits)\n",
    "            PREDS.append(pred)\n",
    "            TARGETS.append(target.sum(1))\n",
    "\n",
    "            val_loss.append(loss.detach().cpu().numpy())\n",
    "        val_loss = np.mean(val_loss)\n",
    "\n",
    "    LOGITS = torch.cat(LOGITS).cpu().numpy()\n",
    "    PREDS = torch.cat(PREDS).cpu().numpy()\n",
    "    TARGETS = torch.cat(TARGETS).cpu().numpy()\n",
    "    acc = (PREDS == TARGETS).mean() * 100.\n",
    "    \n",
    "    qwk = cohen_kappa_score(PREDS, TARGETS, weights='quadratic')\n",
    "    qwk_k = cohen_kappa_score(PREDS[df_valid['data_provider'] == 'karolinska'], df_valid[df_valid['data_provider'] == 'karolinska'].isup_grade.values, weights='quadratic')\n",
    "    qwk_r = cohen_kappa_score(PREDS[df_valid['data_provider'] == 'radboud'], df_valid[df_valid['data_provider'] == 'radboud'].isup_grade.values, weights='quadratic')\n",
    "    print('qwk', qwk, 'qwk_k', qwk_k, 'qwk_r', qwk_r)\n",
    "\n",
    "    if get_output:\n",
    "        return LOGITS\n",
    "    else:\n",
    "        return val_loss, acc, qwk"
   ]
  },
  {
   "cell_type": "code",
   "execution_count": 28,
   "metadata": {},
   "outputs": [
    {
     "name": "stdout",
     "output_type": "stream",
     "text": [
      "8410 2106\n"
     ]
    }
   ],
   "source": [
    "train_idx = np.where((df_train['fold'] != fold))[0]\n",
    "valid_idx = np.where((df_train['fold'] == fold))[0]\n",
    "\n",
    "df_this  = df_train.loc[train_idx]\n",
    "df_valid = df_train.loc[valid_idx]\n",
    "\n",
    "dataset_train = PANDADataset(df_this , image_size, n_tiles, transform=transforms_train)\n",
    "dataset_valid = PANDADataset(df_valid, image_size, n_tiles, transform=transforms_val)\n",
    "\n",
    "train_loader = torch.utils.data.DataLoader(dataset_train, batch_size=batch_size, sampler=RandomSampler(dataset_train), num_workers=num_workers)\n",
    "valid_loader = torch.utils.data.DataLoader(dataset_valid, batch_size=batch_size, sampler=SequentialSampler(dataset_valid), num_workers=num_workers)\n",
    "\n",
    "# model = enetv2(enet_type, out_dim=out_dim)\n",
    "# model = model.to(device)\n",
    "\n",
    "model_path = '/home/watts/Kaggle/kpanda/cache/how_to_train_effnet_b0_to_get_LB_0.86_best_fold0.pth'\n",
    "model = enetv2(enet_type, out_dim=out_dim)\n",
    "model.load_state_dict(torch.load(model_path), strict=True)\n",
    "model = model.to(device)\n",
    "\n",
    "optimizer = optim.Adam(model.parameters(), lr=init_lr/warmup_factor)\n",
    "scheduler_cosine = torch.optim.lr_scheduler.CosineAnnealingLR(optimizer, n_epochs-warmup_epo)\n",
    "scheduler = GradualWarmupScheduler(optimizer, multiplier=warmup_factor, total_epoch=warmup_epo, after_scheduler=scheduler_cosine)\n",
    "\n",
    "print(len(dataset_train), len(dataset_valid))"
   ]
  },
  {
   "cell_type": "code",
   "execution_count": 29,
   "metadata": {},
   "outputs": [
    {
     "name": "stdout",
     "output_type": "stream",
     "text": [
      "Fri Jun 19 23:42:19 2020 Epoch: 1\n"
     ]
    },
    {
     "name": "stderr",
     "output_type": "stream",
     "text": [
      "/home/watts/anaconda3/envs/panda/lib/python3.7/site-packages/torch/optim/lr_scheduler.py:122: UserWarning: Detected call of `lr_scheduler.step()` before `optimizer.step()`. In PyTorch 1.1.0 and later, you should call them in the opposite order: `optimizer.step()` before `lr_scheduler.step()`.  Failure to do this will result in PyTorch skipping the first value of the learning rate schedule. See more details at https://pytorch.org/docs/stable/optim.html#how-to-adjust-learning-rate\n",
      "  \"https://pytorch.org/docs/stable/optim.html#how-to-adjust-learning-rate\", UserWarning)\n"
     ]
    },
    {
     "data": {
      "application/vnd.jupyter.widget-view+json": {
       "model_id": "0adf8f3275664ad7810d123381bd04f2",
       "version_major": 2,
       "version_minor": 0
      },
      "text/plain": [
       "HBox(children=(IntProgress(value=0, max=4205), HTML(value='')))"
      ]
     },
     "metadata": {},
     "output_type": "display_data"
    },
    {
     "name": "stdout",
     "output_type": "stream",
     "text": [
      "\n"
     ]
    },
    {
     "data": {
      "application/vnd.jupyter.widget-view+json": {
       "model_id": "3de6fa1e8b9b46fc844e59f78e128550",
       "version_major": 2,
       "version_minor": 0
      },
      "text/plain": [
       "HBox(children=(IntProgress(value=0, max=1053), HTML(value='')))"
      ]
     },
     "metadata": {},
     "output_type": "display_data"
    },
    {
     "name": "stdout",
     "output_type": "stream",
     "text": [
      "\n",
      "qwk 0.5388542358542023 qwk_k 0.248900705593619 qwk_r 0.680307748437415\n",
      "Sat Jun 20 00:22:53 2020 Epoch 1, lr: 0.0000300, train loss: 0.42366, val loss: 0.51233, acc: 18.04368, qwk: 0.53885\n",
      "score2 (0.000000 --> 0.538854).  Saving model ...\n",
      "Sat Jun 20 00:22:53 2020 Epoch: 2\n"
     ]
    },
    {
     "data": {
      "application/vnd.jupyter.widget-view+json": {
       "model_id": "7db0bd79223c4ae3a4ffc26583ad5793",
       "version_major": 2,
       "version_minor": 0
      },
      "text/plain": [
       "HBox(children=(IntProgress(value=0, max=4205), HTML(value='')))"
      ]
     },
     "metadata": {},
     "output_type": "display_data"
    },
    {
     "name": "stdout",
     "output_type": "stream",
     "text": [
      "\n"
     ]
    },
    {
     "data": {
      "application/vnd.jupyter.widget-view+json": {
       "model_id": "d98813d0477c4613b9f39f6af3b7d710",
       "version_major": 2,
       "version_minor": 0
      },
      "text/plain": [
       "HBox(children=(IntProgress(value=0, max=1053), HTML(value='')))"
      ]
     },
     "metadata": {},
     "output_type": "display_data"
    },
    {
     "name": "stdout",
     "output_type": "stream",
     "text": [
      "\n",
      "qwk -0.07402327495417271 qwk_k -0.05808823529411744 qwk_r 0.03679733233540938\n",
      "Sat Jun 20 01:03:50 2020 Epoch 2, lr: 0.0003000, train loss: 0.29238, val loss: 1.40684, acc: 12.53561, qwk: -0.07402\n",
      "Sat Jun 20 01:03:50 2020 Epoch: 3\n"
     ]
    },
    {
     "data": {
      "application/vnd.jupyter.widget-view+json": {
       "model_id": "bfe7939e51b440a9a56a02f6fbb94c27",
       "version_major": 2,
       "version_minor": 0
      },
      "text/plain": [
       "HBox(children=(IntProgress(value=0, max=4205), HTML(value='')))"
      ]
     },
     "metadata": {},
     "output_type": "display_data"
    },
    {
     "name": "stdout",
     "output_type": "stream",
     "text": [
      "\n"
     ]
    },
    {
     "data": {
      "application/vnd.jupyter.widget-view+json": {
       "model_id": "fc9298aa823c4243ad77c614728317e7",
       "version_major": 2,
       "version_minor": 0
      },
      "text/plain": [
       "HBox(children=(IntProgress(value=0, max=1053), HTML(value='')))"
      ]
     },
     "metadata": {},
     "output_type": "display_data"
    },
    {
     "name": "stdout",
     "output_type": "stream",
     "text": [
      "\n",
      "qwk 0.7554964489369866 qwk_k 0.6313432835820896 qwk_r 0.8466788195683341\n",
      "Sat Jun 20 01:44:49 2020 Epoch 3, lr: 0.0000300, train loss: 0.21811, val loss: 0.51176, acc: 42.83001, qwk: 0.75550\n",
      "score2 (0.538854 --> 0.755496).  Saving model ...\n",
      "Sat Jun 20 01:44:49 2020 Epoch: 4\n"
     ]
    },
    {
     "data": {
      "application/vnd.jupyter.widget-view+json": {
       "model_id": "2222ce90266e4e0dbc42059bf662021f",
       "version_major": 2,
       "version_minor": 0
      },
      "text/plain": [
       "HBox(children=(IntProgress(value=0, max=4205), HTML(value='')))"
      ]
     },
     "metadata": {},
     "output_type": "display_data"
    },
    {
     "name": "stdout",
     "output_type": "stream",
     "text": [
      "\n"
     ]
    },
    {
     "data": {
      "application/vnd.jupyter.widget-view+json": {
       "model_id": "d1623ea18ef24d108726e83e1ead1102",
       "version_major": 2,
       "version_minor": 0
      },
      "text/plain": [
       "HBox(children=(IntProgress(value=0, max=1053), HTML(value='')))"
      ]
     },
     "metadata": {},
     "output_type": "display_data"
    },
    {
     "name": "stdout",
     "output_type": "stream",
     "text": [
      "\n",
      "qwk 0.004720072671632103 qwk_k 0.0 qwk_r 0.004933265476991799\n",
      "Sat Jun 20 02:25:47 2020 Epoch 4, lr: 0.0002965, train loss: 0.22769, val loss: 132.88342, acc: 24.88129, qwk: 0.00472\n",
      "Sat Jun 20 02:25:47 2020 Epoch: 5\n"
     ]
    },
    {
     "data": {
      "application/vnd.jupyter.widget-view+json": {
       "model_id": "d961a0554a6b4eb889a7e98cfa2a1333",
       "version_major": 2,
       "version_minor": 0
      },
      "text/plain": [
       "HBox(children=(IntProgress(value=0, max=4205), HTML(value='')))"
      ]
     },
     "metadata": {},
     "output_type": "display_data"
    },
    {
     "name": "stdout",
     "output_type": "stream",
     "text": [
      "\n"
     ]
    },
    {
     "data": {
      "application/vnd.jupyter.widget-view+json": {
       "model_id": "c484141407c248019557618eae19d932",
       "version_major": 2,
       "version_minor": 0
      },
      "text/plain": [
       "HBox(children=(IntProgress(value=0, max=1053), HTML(value='')))"
      ]
     },
     "metadata": {},
     "output_type": "display_data"
    },
    {
     "name": "stdout",
     "output_type": "stream",
     "text": [
      "\n",
      "qwk 0.11781084982081047 qwk_k 0.08582257621532552 qwk_r 0.054825250451214\n",
      "Sat Jun 20 03:06:43 2020 Epoch 5, lr: 0.0002921, train loss: 0.21145, val loss: 729.13721, acc: 11.44349, qwk: 0.11781\n",
      "Sat Jun 20 03:06:43 2020 Epoch: 6\n"
     ]
    },
    {
     "data": {
      "application/vnd.jupyter.widget-view+json": {
       "model_id": "fe7cd18432e543b09b92c76ae621ab8e",
       "version_major": 2,
       "version_minor": 0
      },
      "text/plain": [
       "HBox(children=(IntProgress(value=0, max=4205), HTML(value='')))"
      ]
     },
     "metadata": {},
     "output_type": "display_data"
    },
    {
     "name": "stdout",
     "output_type": "stream",
     "text": [
      "\n"
     ]
    },
    {
     "data": {
      "application/vnd.jupyter.widget-view+json": {
       "model_id": "ce887bb459854e94a435296a3eff8b30",
       "version_major": 2,
       "version_minor": 0
      },
      "text/plain": [
       "HBox(children=(IntProgress(value=0, max=1053), HTML(value='')))"
      ]
     },
     "metadata": {},
     "output_type": "display_data"
    },
    {
     "name": "stdout",
     "output_type": "stream",
     "text": [
      "\n",
      "qwk 0.21285224545399806 qwk_k -0.013617583870434435 qwk_r 0.2597278449490944\n",
      "Sat Jun 20 03:47:40 2020 Epoch 6, lr: 0.0002861, train loss: 0.20703, val loss: 0.73023, acc: 24.97626, qwk: 0.21285\n",
      "Sat Jun 20 03:47:40 2020 Epoch: 7\n"
     ]
    },
    {
     "data": {
      "application/vnd.jupyter.widget-view+json": {
       "model_id": "d4c7b10980fd49fbaae82bb9bf4aa208",
       "version_major": 2,
       "version_minor": 0
      },
      "text/plain": [
       "HBox(children=(IntProgress(value=0, max=4205), HTML(value='')))"
      ]
     },
     "metadata": {},
     "output_type": "display_data"
    },
    {
     "name": "stdout",
     "output_type": "stream",
     "text": [
      "\n"
     ]
    },
    {
     "data": {
      "application/vnd.jupyter.widget-view+json": {
       "model_id": "ca49200677674e8fbe04289de6d6edf5",
       "version_major": 2,
       "version_minor": 0
      },
      "text/plain": [
       "HBox(children=(IntProgress(value=0, max=1053), HTML(value='')))"
      ]
     },
     "metadata": {},
     "output_type": "display_data"
    },
    {
     "name": "stdout",
     "output_type": "stream",
     "text": [
      "\n",
      "qwk 0.06561121512630841 qwk_k 0.05721018824108115 qwk_r 0.022835299198633585\n",
      "Sat Jun 20 04:28:38 2020 Epoch 7, lr: 0.0002785, train loss: 0.19813, val loss: 32.87829, acc: 12.53561, qwk: 0.06561\n",
      "Sat Jun 20 04:28:38 2020 Epoch: 8\n"
     ]
    },
    {
     "data": {
      "application/vnd.jupyter.widget-view+json": {
       "model_id": "6fcef3d38be3468f9d402c3ff744bcbc",
       "version_major": 2,
       "version_minor": 0
      },
      "text/plain": [
       "HBox(children=(IntProgress(value=0, max=4205), HTML(value='')))"
      ]
     },
     "metadata": {},
     "output_type": "display_data"
    },
    {
     "name": "stdout",
     "output_type": "stream",
     "text": [
      "\n"
     ]
    },
    {
     "data": {
      "application/vnd.jupyter.widget-view+json": {
       "model_id": "ef5ae5a87dbc4facaf12180450e20a43",
       "version_major": 2,
       "version_minor": 0
      },
      "text/plain": [
       "HBox(children=(IntProgress(value=0, max=1053), HTML(value='')))"
      ]
     },
     "metadata": {},
     "output_type": "display_data"
    },
    {
     "name": "stdout",
     "output_type": "stream",
     "text": [
      "\n",
      "qwk -0.08660321727926545 qwk_k -0.07984014541289519 qwk_r -0.021743343544827987\n",
      "Sat Jun 20 05:09:37 2020 Epoch 8, lr: 0.0002694, train loss: 0.19481, val loss: 15.51274, acc: 11.77588, qwk: -0.08660\n",
      "Sat Jun 20 05:09:37 2020 Epoch: 9\n"
     ]
    },
    {
     "data": {
      "application/vnd.jupyter.widget-view+json": {
       "model_id": "7d569a812e2a4ffcb73d5d4ed6228eb7",
       "version_major": 2,
       "version_minor": 0
      },
      "text/plain": [
       "HBox(children=(IntProgress(value=0, max=4205), HTML(value='')))"
      ]
     },
     "metadata": {},
     "output_type": "display_data"
    },
    {
     "name": "stdout",
     "output_type": "stream",
     "text": [
      "\n"
     ]
    },
    {
     "data": {
      "application/vnd.jupyter.widget-view+json": {
       "model_id": "02589bc029a34f67bc76125368026d40",
       "version_major": 2,
       "version_minor": 0
      },
      "text/plain": [
       "HBox(children=(IntProgress(value=0, max=1053), HTML(value='')))"
      ]
     },
     "metadata": {},
     "output_type": "display_data"
    },
    {
     "name": "stdout",
     "output_type": "stream",
     "text": [
      "\n",
      "qwk 0.02135278550513431 qwk_k 0.0 qwk_r 0.04635263049534655\n",
      "Sat Jun 20 05:50:32 2020 Epoch 9, lr: 0.0002589, train loss: 0.19095, val loss: 4.59773, acc: 13.77018, qwk: 0.02135\n",
      "Sat Jun 20 05:50:32 2020 Epoch: 10\n"
     ]
    },
    {
     "data": {
      "application/vnd.jupyter.widget-view+json": {
       "model_id": "c0a83b36c4334135b564b91e77f06706",
       "version_major": 2,
       "version_minor": 0
      },
      "text/plain": [
       "HBox(children=(IntProgress(value=0, max=4205), HTML(value='')))"
      ]
     },
     "metadata": {},
     "output_type": "display_data"
    },
    {
     "name": "stdout",
     "output_type": "stream",
     "text": [
      "\n"
     ]
    },
    {
     "data": {
      "application/vnd.jupyter.widget-view+json": {
       "model_id": "23b029d4a5484900823d885b10c1dc92",
       "version_major": 2,
       "version_minor": 0
      },
      "text/plain": [
       "HBox(children=(IntProgress(value=0, max=1053), HTML(value='')))"
      ]
     },
     "metadata": {},
     "output_type": "display_data"
    },
    {
     "name": "stdout",
     "output_type": "stream",
     "text": [
      "\n",
      "qwk 0.1933479004166231 qwk_k 0.0 qwk_r 0.3162661538008652\n",
      "Sat Jun 20 06:31:30 2020 Epoch 10, lr: 0.0002471, train loss: 0.18613, val loss: 4.19828, acc: 12.86800, qwk: 0.19335\n",
      "Sat Jun 20 06:31:30 2020 Epoch: 11\n"
     ]
    },
    {
     "data": {
      "application/vnd.jupyter.widget-view+json": {
       "model_id": "caefb845df5840c189aa6c3e5b0552c7",
       "version_major": 2,
       "version_minor": 0
      },
      "text/plain": [
       "HBox(children=(IntProgress(value=0, max=4205), HTML(value='')))"
      ]
     },
     "metadata": {},
     "output_type": "display_data"
    },
    {
     "name": "stdout",
     "output_type": "stream",
     "text": [
      "\n"
     ]
    },
    {
     "data": {
      "application/vnd.jupyter.widget-view+json": {
       "model_id": "e698862ae90b4f1da482dd4bdf7b8cda",
       "version_major": 2,
       "version_minor": 0
      },
      "text/plain": [
       "HBox(children=(IntProgress(value=0, max=1053), HTML(value='')))"
      ]
     },
     "metadata": {},
     "output_type": "display_data"
    },
    {
     "name": "stdout",
     "output_type": "stream",
     "text": [
      "\n",
      "qwk 0.6011581861486968 qwk_k 0.0 qwk_r 0.623872631466436\n",
      "Sat Jun 20 07:12:27 2020 Epoch 11, lr: 0.0002342, train loss: 0.18555, val loss: 3.87737, acc: 28.49003, qwk: 0.60116\n",
      "Sat Jun 20 07:12:27 2020 Epoch: 12\n"
     ]
    },
    {
     "data": {
      "application/vnd.jupyter.widget-view+json": {
       "model_id": "2cb74bdf3e3042f2bc51d666834a234d",
       "version_major": 2,
       "version_minor": 0
      },
      "text/plain": [
       "HBox(children=(IntProgress(value=0, max=4205), HTML(value='')))"
      ]
     },
     "metadata": {},
     "output_type": "display_data"
    },
    {
     "name": "stdout",
     "output_type": "stream",
     "text": [
      "\n"
     ]
    },
    {
     "data": {
      "application/vnd.jupyter.widget-view+json": {
       "model_id": "f82204b660cf40b0b96bfcc88544e1ca",
       "version_major": 2,
       "version_minor": 0
      },
      "text/plain": [
       "HBox(children=(IntProgress(value=0, max=1053), HTML(value='')))"
      ]
     },
     "metadata": {},
     "output_type": "display_data"
    },
    {
     "name": "stdout",
     "output_type": "stream",
     "text": [
      "\n",
      "qwk 0.38601842959523847 qwk_k 0.0 qwk_r 0.46439679421483826\n",
      "Sat Jun 20 07:53:24 2020 Epoch 12, lr: 0.0002203, train loss: 0.18468, val loss: 0.59874, acc: 27.44539, qwk: 0.38602\n",
      "Sat Jun 20 07:53:24 2020 Epoch: 13\n"
     ]
    },
    {
     "data": {
      "application/vnd.jupyter.widget-view+json": {
       "model_id": "1879b17f83ca4dcfa6a9d1b7e2cebe2b",
       "version_major": 2,
       "version_minor": 0
      },
      "text/plain": [
       "HBox(children=(IntProgress(value=0, max=4205), HTML(value='')))"
      ]
     },
     "metadata": {},
     "output_type": "display_data"
    },
    {
     "name": "stdout",
     "output_type": "stream",
     "text": [
      "\n"
     ]
    },
    {
     "data": {
      "application/vnd.jupyter.widget-view+json": {
       "model_id": "0dbd915cdc11418da81826f2dca7a116",
       "version_major": 2,
       "version_minor": 0
      },
      "text/plain": [
       "HBox(children=(IntProgress(value=0, max=1053), HTML(value='')))"
      ]
     },
     "metadata": {},
     "output_type": "display_data"
    },
    {
     "name": "stdout",
     "output_type": "stream",
     "text": [
      "\n",
      "qwk 0.0 qwk_k 0.0 qwk_r 0.0\n",
      "Sat Jun 20 08:34:23 2020 Epoch 13, lr: 0.0002055, train loss: 0.18402, val loss: 1.40157, acc: 11.68091, qwk: 0.00000\n",
      "Sat Jun 20 08:34:23 2020 Epoch: 14\n"
     ]
    },
    {
     "data": {
      "application/vnd.jupyter.widget-view+json": {
       "model_id": "3f0d5fbe7bc54eabb2de82fb5a7c6b8f",
       "version_major": 2,
       "version_minor": 0
      },
      "text/plain": [
       "HBox(children=(IntProgress(value=0, max=4205), HTML(value='')))"
      ]
     },
     "metadata": {},
     "output_type": "display_data"
    },
    {
     "name": "stdout",
     "output_type": "stream",
     "text": [
      "\n"
     ]
    },
    {
     "data": {
      "application/vnd.jupyter.widget-view+json": {
       "model_id": "76c85f2cea63435b8dcd728c64330335",
       "version_major": 2,
       "version_minor": 0
      },
      "text/plain": [
       "HBox(children=(IntProgress(value=0, max=1053), HTML(value='')))"
      ]
     },
     "metadata": {},
     "output_type": "display_data"
    },
    {
     "name": "stdout",
     "output_type": "stream",
     "text": [
      "\n",
      "qwk 0.2966119922028535 qwk_k 0.1604350781781101 qwk_r 0.4220009507060588\n",
      "Sat Jun 20 09:15:19 2020 Epoch 14, lr: 0.0001901, train loss: 0.18079, val loss: 0.49449, acc: 15.85945, qwk: 0.29661\n",
      "Sat Jun 20 09:15:19 2020 Epoch: 15\n"
     ]
    },
    {
     "data": {
      "application/vnd.jupyter.widget-view+json": {
       "model_id": "c3cc24e805344c449bfbf6a1ed35da25",
       "version_major": 2,
       "version_minor": 0
      },
      "text/plain": [
       "HBox(children=(IntProgress(value=0, max=4205), HTML(value='')))"
      ]
     },
     "metadata": {},
     "output_type": "display_data"
    },
    {
     "name": "stdout",
     "output_type": "stream",
     "text": [
      "\n"
     ]
    },
    {
     "data": {
      "application/vnd.jupyter.widget-view+json": {
       "model_id": "3b844e14d7a54bac8cc41ab743a0a2cd",
       "version_major": 2,
       "version_minor": 0
      },
      "text/plain": [
       "HBox(children=(IntProgress(value=0, max=1053), HTML(value='')))"
      ]
     },
     "metadata": {},
     "output_type": "display_data"
    },
    {
     "name": "stdout",
     "output_type": "stream",
     "text": [
      "\n",
      "qwk 0.33756950955997556 qwk_k 0.4071469086783892 qwk_r 0.1085584690167174\n",
      "Sat Jun 20 09:56:16 2020 Epoch 15, lr: 0.0001743, train loss: 0.17793, val loss: 10.61199, acc: 13.53276, qwk: 0.33757\n",
      "Sat Jun 20 09:56:16 2020 Epoch: 16\n"
     ]
    },
    {
     "data": {
      "application/vnd.jupyter.widget-view+json": {
       "model_id": "c57aed6f75e94e2dae9d9261e0cc5d19",
       "version_major": 2,
       "version_minor": 0
      },
      "text/plain": [
       "HBox(children=(IntProgress(value=0, max=4205), HTML(value='')))"
      ]
     },
     "metadata": {},
     "output_type": "display_data"
    },
    {
     "name": "stdout",
     "output_type": "stream",
     "text": [
      "\n"
     ]
    },
    {
     "data": {
      "application/vnd.jupyter.widget-view+json": {
       "model_id": "99300612111447079e12dc4974c48f97",
       "version_major": 2,
       "version_minor": 0
      },
      "text/plain": [
       "HBox(children=(IntProgress(value=0, max=1053), HTML(value='')))"
      ]
     },
     "metadata": {},
     "output_type": "display_data"
    },
    {
     "name": "stdout",
     "output_type": "stream",
     "text": [
      "\n",
      "qwk 0.7930596752831858 qwk_k 0.4880499728408473 qwk_r 0.8916834148365731\n",
      "Sat Jun 20 10:37:13 2020 Epoch 16, lr: 0.0001581, train loss: 0.17661, val loss: 0.33195, acc: 38.41406, qwk: 0.79306\n",
      "score2 (0.755496 --> 0.793060).  Saving model ...\n",
      "Sat Jun 20 10:37:13 2020 Epoch: 17\n"
     ]
    },
    {
     "data": {
      "application/vnd.jupyter.widget-view+json": {
       "model_id": "6e6b7b82b09649e6b354147608e4e8b8",
       "version_major": 2,
       "version_minor": 0
      },
      "text/plain": [
       "HBox(children=(IntProgress(value=0, max=4205), HTML(value='')))"
      ]
     },
     "metadata": {},
     "output_type": "display_data"
    },
    {
     "name": "stdout",
     "output_type": "stream",
     "text": [
      "\n"
     ]
    },
    {
     "data": {
      "application/vnd.jupyter.widget-view+json": {
       "model_id": "52faf4c3914047c3bf48a995df22bc2b",
       "version_major": 2,
       "version_minor": 0
      },
      "text/plain": [
       "HBox(children=(IntProgress(value=0, max=1053), HTML(value='')))"
      ]
     },
     "metadata": {},
     "output_type": "display_data"
    },
    {
     "name": "stdout",
     "output_type": "stream",
     "text": [
      "\n",
      "qwk 0.2443709547094054 qwk_k -0.04130892038205558 qwk_r 0.48270606272204986\n",
      "Sat Jun 20 11:18:09 2020 Epoch 17, lr: 0.0001419, train loss: 0.17637, val loss: 1.46884, acc: 17.28395, qwk: 0.24437\n",
      "Sat Jun 20 11:18:09 2020 Epoch: 18\n"
     ]
    },
    {
     "data": {
      "application/vnd.jupyter.widget-view+json": {
       "model_id": "9855a7450f9b4c199b2b40dff511a20d",
       "version_major": 2,
       "version_minor": 0
      },
      "text/plain": [
       "HBox(children=(IntProgress(value=0, max=4205), HTML(value='')))"
      ]
     },
     "metadata": {},
     "output_type": "display_data"
    },
    {
     "name": "stdout",
     "output_type": "stream",
     "text": [
      "\n"
     ]
    },
    {
     "data": {
      "application/vnd.jupyter.widget-view+json": {
       "model_id": "ea708419e73749639f0e7cd1e29ecbf5",
       "version_major": 2,
       "version_minor": 0
      },
      "text/plain": [
       "HBox(children=(IntProgress(value=0, max=1053), HTML(value='')))"
      ]
     },
     "metadata": {},
     "output_type": "display_data"
    },
    {
     "name": "stdout",
     "output_type": "stream",
     "text": [
      "\n",
      "qwk 0.0761151994121202 qwk_k -0.0005253480430784663 qwk_r 0.19830316084961286\n",
      "Sat Jun 20 11:59:07 2020 Epoch 18, lr: 0.0001257, train loss: 0.17431, val loss: 4.49555, acc: 20.84520, qwk: 0.07612\n",
      "Sat Jun 20 11:59:07 2020 Epoch: 19\n"
     ]
    },
    {
     "data": {
      "application/vnd.jupyter.widget-view+json": {
       "model_id": "1cb4a540dffb4f74b5d2c871342e7388",
       "version_major": 2,
       "version_minor": 0
      },
      "text/plain": [
       "HBox(children=(IntProgress(value=0, max=4205), HTML(value='')))"
      ]
     },
     "metadata": {},
     "output_type": "display_data"
    },
    {
     "name": "stdout",
     "output_type": "stream",
     "text": [
      "\n"
     ]
    },
    {
     "data": {
      "application/vnd.jupyter.widget-view+json": {
       "model_id": "c52a54ff602e48aa9290670dd17c0cbf",
       "version_major": 2,
       "version_minor": 0
      },
      "text/plain": [
       "HBox(children=(IntProgress(value=0, max=1053), HTML(value='')))"
      ]
     },
     "metadata": {},
     "output_type": "display_data"
    },
    {
     "name": "stdout",
     "output_type": "stream",
     "text": [
      "\n",
      "qwk 0.15567111396408195 qwk_k 0.01765768802254475 qwk_r 0.4607985915057513\n",
      "Sat Jun 20 12:40:06 2020 Epoch 19, lr: 0.0001099, train loss: 0.17282, val loss: 1.59540, acc: 23.17189, qwk: 0.15567\n",
      "Sat Jun 20 12:40:06 2020 Epoch: 20\n"
     ]
    },
    {
     "data": {
      "application/vnd.jupyter.widget-view+json": {
       "model_id": "a18f87e613f641269ee11888658a4eab",
       "version_major": 2,
       "version_minor": 0
      },
      "text/plain": [
       "HBox(children=(IntProgress(value=0, max=4205), HTML(value='')))"
      ]
     },
     "metadata": {},
     "output_type": "display_data"
    },
    {
     "name": "stdout",
     "output_type": "stream",
     "text": [
      "\n"
     ]
    },
    {
     "data": {
      "application/vnd.jupyter.widget-view+json": {
       "model_id": "965c814e855b4fb3b3ed0804b9144b4c",
       "version_major": 2,
       "version_minor": 0
      },
      "text/plain": [
       "HBox(children=(IntProgress(value=0, max=1053), HTML(value='')))"
      ]
     },
     "metadata": {},
     "output_type": "display_data"
    },
    {
     "name": "stdout",
     "output_type": "stream",
     "text": [
      "\n",
      "qwk 0.277659722905263 qwk_k 0.11904201020808791 qwk_r 0.28336498231686147\n",
      "Sat Jun 20 13:21:06 2020 Epoch 20, lr: 0.0000945, train loss: 0.17173, val loss: 3.33239, acc: 13.58025, qwk: 0.27766\n",
      "Sat Jun 20 13:21:06 2020 Epoch: 21\n"
     ]
    },
    {
     "data": {
      "application/vnd.jupyter.widget-view+json": {
       "model_id": "0f1d004bfecb482392719f1d195a014e",
       "version_major": 2,
       "version_minor": 0
      },
      "text/plain": [
       "HBox(children=(IntProgress(value=0, max=4205), HTML(value='')))"
      ]
     },
     "metadata": {},
     "output_type": "display_data"
    },
    {
     "name": "stdout",
     "output_type": "stream",
     "text": [
      "\n"
     ]
    },
    {
     "data": {
      "application/vnd.jupyter.widget-view+json": {
       "model_id": "234b732085514fac8e9b1eada941cfce",
       "version_major": 2,
       "version_minor": 0
      },
      "text/plain": [
       "HBox(children=(IntProgress(value=0, max=1053), HTML(value='')))"
      ]
     },
     "metadata": {},
     "output_type": "display_data"
    },
    {
     "name": "stdout",
     "output_type": "stream",
     "text": [
      "\n",
      "qwk 0.6183067785058174 qwk_k 0.5009908667930381 qwk_r 0.5386594072385631\n",
      "Sat Jun 20 14:02:08 2020 Epoch 21, lr: 0.0000797, train loss: 0.16971, val loss: 2.79299, acc: 20.56030, qwk: 0.61831\n",
      "Sat Jun 20 14:02:08 2020 Epoch: 22\n"
     ]
    },
    {
     "data": {
      "application/vnd.jupyter.widget-view+json": {
       "model_id": "5d97c60c09b8415e81c413b856694fa2",
       "version_major": 2,
       "version_minor": 0
      },
      "text/plain": [
       "HBox(children=(IntProgress(value=0, max=4205), HTML(value='')))"
      ]
     },
     "metadata": {},
     "output_type": "display_data"
    },
    {
     "name": "stdout",
     "output_type": "stream",
     "text": [
      "\n"
     ]
    },
    {
     "data": {
      "application/vnd.jupyter.widget-view+json": {
       "model_id": "27ab9ae2456f4b90a22ad45323505c42",
       "version_major": 2,
       "version_minor": 0
      },
      "text/plain": [
       "HBox(children=(IntProgress(value=0, max=1053), HTML(value='')))"
      ]
     },
     "metadata": {},
     "output_type": "display_data"
    },
    {
     "name": "stdout",
     "output_type": "stream",
     "text": [
      "\n",
      "qwk 0.31392022836417854 qwk_k 0.0027978549778502337 qwk_r 0.3886324450098765\n",
      "Sat Jun 20 14:43:09 2020 Epoch 22, lr: 0.0000658, train loss: 0.16837, val loss: 2.43953, acc: 12.01330, qwk: 0.31392\n",
      "Sat Jun 20 14:43:09 2020 Epoch: 23\n"
     ]
    },
    {
     "data": {
      "application/vnd.jupyter.widget-view+json": {
       "model_id": "85da60e53f8949c29879befcae7d8c94",
       "version_major": 2,
       "version_minor": 0
      },
      "text/plain": [
       "HBox(children=(IntProgress(value=0, max=4205), HTML(value='')))"
      ]
     },
     "metadata": {},
     "output_type": "display_data"
    },
    {
     "name": "stdout",
     "output_type": "stream",
     "text": [
      "\n"
     ]
    },
    {
     "data": {
      "application/vnd.jupyter.widget-view+json": {
       "model_id": "e88954cc8c424020bc2da74b4dd31e87",
       "version_major": 2,
       "version_minor": 0
      },
      "text/plain": [
       "HBox(children=(IntProgress(value=0, max=1053), HTML(value='')))"
      ]
     },
     "metadata": {},
     "output_type": "display_data"
    },
    {
     "name": "stdout",
     "output_type": "stream",
     "text": [
      "\n",
      "qwk 0.09698217107168361 qwk_k 0.056971108283014105 qwk_r 0.2181022810783233\n",
      "Sat Jun 20 15:24:10 2020 Epoch 23, lr: 0.0000529, train loss: 0.16750, val loss: 2.94090, acc: 22.12726, qwk: 0.09698\n",
      "Sat Jun 20 15:24:10 2020 Epoch: 24\n"
     ]
    },
    {
     "data": {
      "application/vnd.jupyter.widget-view+json": {
       "model_id": "04b2758343a64a05beb2e67b146a4036",
       "version_major": 2,
       "version_minor": 0
      },
      "text/plain": [
       "HBox(children=(IntProgress(value=0, max=4205), HTML(value='')))"
      ]
     },
     "metadata": {},
     "output_type": "display_data"
    },
    {
     "name": "stdout",
     "output_type": "stream",
     "text": [
      "\n"
     ]
    },
    {
     "data": {
      "application/vnd.jupyter.widget-view+json": {
       "model_id": "8a5935ca8cf848909f481b7cf9ba0e05",
       "version_major": 2,
       "version_minor": 0
      },
      "text/plain": [
       "HBox(children=(IntProgress(value=0, max=1053), HTML(value='')))"
      ]
     },
     "metadata": {},
     "output_type": "display_data"
    },
    {
     "name": "stdout",
     "output_type": "stream",
     "text": [
      "\n",
      "qwk 0.8661506437066977 qwk_k 0.7296929654100272 qwk_r 0.9274764170867872\n",
      "Sat Jun 20 16:05:11 2020 Epoch 24, lr: 0.0000411, train loss: 0.16700, val loss: 0.24219, acc: 56.74264, qwk: 0.86615\n",
      "score2 (0.793060 --> 0.866151).  Saving model ...\n",
      "Sat Jun 20 16:05:11 2020 Epoch: 25\n"
     ]
    },
    {
     "data": {
      "application/vnd.jupyter.widget-view+json": {
       "model_id": "0b224d21d1434917b7b291973533308a",
       "version_major": 2,
       "version_minor": 0
      },
      "text/plain": [
       "HBox(children=(IntProgress(value=0, max=4205), HTML(value='')))"
      ]
     },
     "metadata": {},
     "output_type": "display_data"
    },
    {
     "name": "stdout",
     "output_type": "stream",
     "text": [
      "\n"
     ]
    },
    {
     "data": {
      "application/vnd.jupyter.widget-view+json": {
       "model_id": "321769fc4fe042dd99ec8164cb7def0a",
       "version_major": 2,
       "version_minor": 0
      },
      "text/plain": [
       "HBox(children=(IntProgress(value=0, max=1053), HTML(value='')))"
      ]
     },
     "metadata": {},
     "output_type": "display_data"
    },
    {
     "name": "stdout",
     "output_type": "stream",
     "text": [
      "\n",
      "qwk 0.6398757803699977 qwk_k 0.5228083518951123 qwk_r 0.6041425148775021\n",
      "Sat Jun 20 16:46:16 2020 Epoch 25, lr: 0.0000306, train loss: 0.16498, val loss: 1.77658, acc: 17.52137, qwk: 0.63988\n",
      "Sat Jun 20 16:46:16 2020 Epoch: 26\n"
     ]
    },
    {
     "data": {
      "application/vnd.jupyter.widget-view+json": {
       "model_id": "250e46462c0947b7bb4d67acd71ffcab",
       "version_major": 2,
       "version_minor": 0
      },
      "text/plain": [
       "HBox(children=(IntProgress(value=0, max=4205), HTML(value='')))"
      ]
     },
     "metadata": {},
     "output_type": "display_data"
    },
    {
     "name": "stdout",
     "output_type": "stream",
     "text": [
      "\n"
     ]
    },
    {
     "data": {
      "application/vnd.jupyter.widget-view+json": {
       "model_id": "9ac227b2d82b46c3b1257721598cb93f",
       "version_major": 2,
       "version_minor": 0
      },
      "text/plain": [
       "HBox(children=(IntProgress(value=0, max=1053), HTML(value='')))"
      ]
     },
     "metadata": {},
     "output_type": "display_data"
    },
    {
     "name": "stdout",
     "output_type": "stream",
     "text": [
      "\n",
      "qwk 0.8594852096621641 qwk_k 0.7324379714821436 qwk_r 0.8989076681935821\n",
      "Sat Jun 20 17:27:19 2020 Epoch 26, lr: 0.0000215, train loss: 0.16358, val loss: 0.24088, acc: 58.11966, qwk: 0.85949\n",
      "Sat Jun 20 17:27:19 2020 Epoch: 27\n"
     ]
    },
    {
     "data": {
      "application/vnd.jupyter.widget-view+json": {
       "model_id": "9529f0ce2a1d4a28af8e99b79760a083",
       "version_major": 2,
       "version_minor": 0
      },
      "text/plain": [
       "HBox(children=(IntProgress(value=0, max=4205), HTML(value='')))"
      ]
     },
     "metadata": {},
     "output_type": "display_data"
    },
    {
     "name": "stdout",
     "output_type": "stream",
     "text": [
      "\n"
     ]
    },
    {
     "data": {
      "application/vnd.jupyter.widget-view+json": {
       "model_id": "69293d0c83854627a69fc1d12334b2e9",
       "version_major": 2,
       "version_minor": 0
      },
      "text/plain": [
       "HBox(children=(IntProgress(value=0, max=1053), HTML(value='')))"
      ]
     },
     "metadata": {},
     "output_type": "display_data"
    },
    {
     "name": "stdout",
     "output_type": "stream",
     "text": [
      "\n",
      "qwk 0.8395176998231775 qwk_k 0.714645942705965 qwk_r 0.8767592665846425\n",
      "Sat Jun 20 18:08:23 2020 Epoch 27, lr: 0.0000139, train loss: 0.16357, val loss: 0.27201, acc: 50.71225, qwk: 0.83952\n",
      "Sat Jun 20 18:08:23 2020 Epoch: 28\n"
     ]
    },
    {
     "data": {
      "application/vnd.jupyter.widget-view+json": {
       "model_id": "c3f46573ce60431fbe779db7c0aefc92",
       "version_major": 2,
       "version_minor": 0
      },
      "text/plain": [
       "HBox(children=(IntProgress(value=0, max=4205), HTML(value='')))"
      ]
     },
     "metadata": {},
     "output_type": "display_data"
    },
    {
     "name": "stdout",
     "output_type": "stream",
     "text": [
      "\n"
     ]
    },
    {
     "data": {
      "application/vnd.jupyter.widget-view+json": {
       "model_id": "371d54930fcd411bbfdf3302e9803513",
       "version_major": 2,
       "version_minor": 0
      },
      "text/plain": [
       "HBox(children=(IntProgress(value=0, max=1053), HTML(value='')))"
      ]
     },
     "metadata": {},
     "output_type": "display_data"
    },
    {
     "name": "stdout",
     "output_type": "stream",
     "text": [
      "\n",
      "qwk 0.7315155200179102 qwk_k 0.6300554693643339 qwk_r 0.7261781036473891\n",
      "Sat Jun 20 18:49:29 2020 Epoch 28, lr: 0.0000079, train loss: 0.16404, val loss: 0.45885, acc: 35.94492, qwk: 0.73152\n",
      "Sat Jun 20 18:49:29 2020 Epoch: 29\n"
     ]
    },
    {
     "data": {
      "application/vnd.jupyter.widget-view+json": {
       "model_id": "acadcfdbe7e248b79c9d890a910cb979",
       "version_major": 2,
       "version_minor": 0
      },
      "text/plain": [
       "HBox(children=(IntProgress(value=0, max=4205), HTML(value='')))"
      ]
     },
     "metadata": {},
     "output_type": "display_data"
    },
    {
     "name": "stdout",
     "output_type": "stream",
     "text": [
      "\n"
     ]
    },
    {
     "data": {
      "application/vnd.jupyter.widget-view+json": {
       "model_id": "c48ee9258a284443995a8773740415c2",
       "version_major": 2,
       "version_minor": 0
      },
      "text/plain": [
       "HBox(children=(IntProgress(value=0, max=1053), HTML(value='')))"
      ]
     },
     "metadata": {},
     "output_type": "display_data"
    },
    {
     "name": "stdout",
     "output_type": "stream",
     "text": [
      "\n",
      "qwk 0.8594411685204281 qwk_k 0.7336563801751254 qwk_r 0.8994369938306517\n",
      "Sat Jun 20 19:30:22 2020 Epoch 29, lr: 0.0000035, train loss: 0.16301, val loss: 0.23638, acc: 57.45489, qwk: 0.85944\n",
      "Sat Jun 20 19:30:22 2020 Epoch: 30\n"
     ]
    },
    {
     "data": {
      "application/vnd.jupyter.widget-view+json": {
       "model_id": "ad6e093b29fe4be1b1c8c5f4eabc6b78",
       "version_major": 2,
       "version_minor": 0
      },
      "text/plain": [
       "HBox(children=(IntProgress(value=0, max=4205), HTML(value='')))"
      ]
     },
     "metadata": {},
     "output_type": "display_data"
    },
    {
     "name": "stdout",
     "output_type": "stream",
     "text": [
      "\n"
     ]
    },
    {
     "data": {
      "application/vnd.jupyter.widget-view+json": {
       "model_id": "4fefe5de34294788a323cafdb5db5704",
       "version_major": 2,
       "version_minor": 0
      },
      "text/plain": [
       "HBox(children=(IntProgress(value=0, max=1053), HTML(value='')))"
      ]
     },
     "metadata": {},
     "output_type": "display_data"
    },
    {
     "name": "stdout",
     "output_type": "stream",
     "text": [
      "\n",
      "qwk 0.8679396633658223 qwk_k 0.7440808014317157 qwk_r 0.9117496659683618\n",
      "Sat Jun 20 20:11:16 2020 Epoch 30, lr: 0.0000009, train loss: 0.16332, val loss: 0.23647, acc: 60.06648, qwk: 0.86794\n",
      "score2 (0.866151 --> 0.867940).  Saving model ...\n"
     ]
    }
   ],
   "source": [
    "qwk_max = 0.\n",
    "best_file = f'../cache/{kernel_type}_best_fold{fold}.pth'\n",
    "for epoch in range(1, n_epochs+1):\n",
    "    print(time.ctime(), 'Epoch:', epoch)\n",
    "    scheduler.step(epoch-1)\n",
    "\n",
    "    train_loss = train_epoch(train_loader, optimizer)\n",
    "    val_loss, acc, qwk = val_epoch(valid_loader)\n",
    "\n",
    "    content = time.ctime() + ' ' + f'Epoch {epoch}, lr: {optimizer.param_groups[0][\"lr\"]:.7f}, train loss: {np.mean(train_loss):.5f}, val loss: {np.mean(val_loss):.5f}, acc: {(acc):.5f}, qwk: {(qwk):.5f}'\n",
    "    print(content)\n",
    "    with open(f'log_{kernel_type}.txt', 'a') as appender:\n",
    "        appender.write(content + '\\n')\n",
    "\n",
    "    if qwk > qwk_max:\n",
    "        print('score2 ({:.6f} --> {:.6f}).  Saving model ...'.format(qwk_max, qwk))\n",
    "        torch.save(model.state_dict(), best_file)\n",
    "        qwk_max = qwk\n",
    "\n",
    "torch.save(model.state_dict(), os.path.join(f'../cache/{kernel_type}_final_fold{fold}.pth'))"
   ]
  },
  {
   "cell_type": "code",
   "execution_count": null,
   "metadata": {},
   "outputs": [],
   "source": []
  }
 ],
 "metadata": {
  "kernelspec": {
   "display_name": "panda",
   "language": "python",
   "name": "panda"
  },
  "language_info": {
   "codemirror_mode": {
    "name": "ipython",
    "version": 3
   },
   "file_extension": ".py",
   "mimetype": "text/x-python",
   "name": "python",
   "nbconvert_exporter": "python",
   "pygments_lexer": "ipython3",
   "version": "3.7.3"
  }
 },
 "nbformat": 4,
 "nbformat_minor": 2
}
